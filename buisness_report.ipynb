{
  "nbformat": 4,
  "nbformat_minor": 0,
  "metadata": {
    "colab": {
      "provenance": [],
      "authorship_tag": "ABX9TyPR/R1Sxpx+nvrqjX3tiohu",
      "include_colab_link": true
    },
    "kernelspec": {
      "name": "python3",
      "display_name": "Python 3"
    },
    "language_info": {
      "name": "python"
    },
    "widgets": {
      "application/vnd.jupyter.widget-state+json": {
        "99b93ae8c29c48c9b2b944b8f20a54b5": {
          "model_module": "@jupyter-widgets/controls",
          "model_name": "HBoxModel",
          "model_module_version": "1.5.0",
          "state": {
            "_dom_classes": [],
            "_model_module": "@jupyter-widgets/controls",
            "_model_module_version": "1.5.0",
            "_model_name": "HBoxModel",
            "_view_count": null,
            "_view_module": "@jupyter-widgets/controls",
            "_view_module_version": "1.5.0",
            "_view_name": "HBoxView",
            "box_style": "",
            "children": [
              "IPY_MODEL_554dd49aea964b3c9a25e9f73342f689",
              "IPY_MODEL_27a876b4cd5c4b21b07a0d00ebe3a9fb",
              "IPY_MODEL_c4e75557107f4b77801d23f993005272"
            ],
            "layout": "IPY_MODEL_8abd26c1bb1845a1aeb3d8bf577d43d7"
          }
        },
        "554dd49aea964b3c9a25e9f73342f689": {
          "model_module": "@jupyter-widgets/controls",
          "model_name": "HTMLModel",
          "model_module_version": "1.5.0",
          "state": {
            "_dom_classes": [],
            "_model_module": "@jupyter-widgets/controls",
            "_model_module_version": "1.5.0",
            "_model_name": "HTMLModel",
            "_view_count": null,
            "_view_module": "@jupyter-widgets/controls",
            "_view_module_version": "1.5.0",
            "_view_name": "HTMLView",
            "description": "",
            "description_tooltip": null,
            "layout": "IPY_MODEL_1ae277eb743b433fa36b132312edf114",
            "placeholder": "​",
            "style": "IPY_MODEL_0915f4b807e146e9bb4fc4a9f22e239a",
            "value": "config.json: 100%"
          }
        },
        "27a876b4cd5c4b21b07a0d00ebe3a9fb": {
          "model_module": "@jupyter-widgets/controls",
          "model_name": "FloatProgressModel",
          "model_module_version": "1.5.0",
          "state": {
            "_dom_classes": [],
            "_model_module": "@jupyter-widgets/controls",
            "_model_module_version": "1.5.0",
            "_model_name": "FloatProgressModel",
            "_view_count": null,
            "_view_module": "@jupyter-widgets/controls",
            "_view_module_version": "1.5.0",
            "_view_name": "ProgressView",
            "bar_style": "success",
            "description": "",
            "description_tooltip": null,
            "layout": "IPY_MODEL_f48b416ba3cc4db7be7cc653564411c9",
            "max": 2270,
            "min": 0,
            "orientation": "horizontal",
            "style": "IPY_MODEL_0d8bb4485ee14afeb5f86c5b8ce83606",
            "value": 2270
          }
        },
        "c4e75557107f4b77801d23f993005272": {
          "model_module": "@jupyter-widgets/controls",
          "model_name": "HTMLModel",
          "model_module_version": "1.5.0",
          "state": {
            "_dom_classes": [],
            "_model_module": "@jupyter-widgets/controls",
            "_model_module_version": "1.5.0",
            "_model_name": "HTMLModel",
            "_view_count": null,
            "_view_module": "@jupyter-widgets/controls",
            "_view_module_version": "1.5.0",
            "_view_name": "HTMLView",
            "description": "",
            "description_tooltip": null,
            "layout": "IPY_MODEL_f587bfc2e7bd485c8bc068772bf06d13",
            "placeholder": "​",
            "style": "IPY_MODEL_c91dd46446644533a874cd155381fcf7",
            "value": " 2.27k/2.27k [00:00&lt;00:00, 130kB/s]"
          }
        },
        "8abd26c1bb1845a1aeb3d8bf577d43d7": {
          "model_module": "@jupyter-widgets/base",
          "model_name": "LayoutModel",
          "model_module_version": "1.2.0",
          "state": {
            "_model_module": "@jupyter-widgets/base",
            "_model_module_version": "1.2.0",
            "_model_name": "LayoutModel",
            "_view_count": null,
            "_view_module": "@jupyter-widgets/base",
            "_view_module_version": "1.2.0",
            "_view_name": "LayoutView",
            "align_content": null,
            "align_items": null,
            "align_self": null,
            "border": null,
            "bottom": null,
            "display": null,
            "flex": null,
            "flex_flow": null,
            "grid_area": null,
            "grid_auto_columns": null,
            "grid_auto_flow": null,
            "grid_auto_rows": null,
            "grid_column": null,
            "grid_gap": null,
            "grid_row": null,
            "grid_template_areas": null,
            "grid_template_columns": null,
            "grid_template_rows": null,
            "height": null,
            "justify_content": null,
            "justify_items": null,
            "left": null,
            "margin": null,
            "max_height": null,
            "max_width": null,
            "min_height": null,
            "min_width": null,
            "object_fit": null,
            "object_position": null,
            "order": null,
            "overflow": null,
            "overflow_x": null,
            "overflow_y": null,
            "padding": null,
            "right": null,
            "top": null,
            "visibility": null,
            "width": null
          }
        },
        "1ae277eb743b433fa36b132312edf114": {
          "model_module": "@jupyter-widgets/base",
          "model_name": "LayoutModel",
          "model_module_version": "1.2.0",
          "state": {
            "_model_module": "@jupyter-widgets/base",
            "_model_module_version": "1.2.0",
            "_model_name": "LayoutModel",
            "_view_count": null,
            "_view_module": "@jupyter-widgets/base",
            "_view_module_version": "1.2.0",
            "_view_name": "LayoutView",
            "align_content": null,
            "align_items": null,
            "align_self": null,
            "border": null,
            "bottom": null,
            "display": null,
            "flex": null,
            "flex_flow": null,
            "grid_area": null,
            "grid_auto_columns": null,
            "grid_auto_flow": null,
            "grid_auto_rows": null,
            "grid_column": null,
            "grid_gap": null,
            "grid_row": null,
            "grid_template_areas": null,
            "grid_template_columns": null,
            "grid_template_rows": null,
            "height": null,
            "justify_content": null,
            "justify_items": null,
            "left": null,
            "margin": null,
            "max_height": null,
            "max_width": null,
            "min_height": null,
            "min_width": null,
            "object_fit": null,
            "object_position": null,
            "order": null,
            "overflow": null,
            "overflow_x": null,
            "overflow_y": null,
            "padding": null,
            "right": null,
            "top": null,
            "visibility": null,
            "width": null
          }
        },
        "0915f4b807e146e9bb4fc4a9f22e239a": {
          "model_module": "@jupyter-widgets/controls",
          "model_name": "DescriptionStyleModel",
          "model_module_version": "1.5.0",
          "state": {
            "_model_module": "@jupyter-widgets/controls",
            "_model_module_version": "1.5.0",
            "_model_name": "DescriptionStyleModel",
            "_view_count": null,
            "_view_module": "@jupyter-widgets/base",
            "_view_module_version": "1.2.0",
            "_view_name": "StyleView",
            "description_width": ""
          }
        },
        "f48b416ba3cc4db7be7cc653564411c9": {
          "model_module": "@jupyter-widgets/base",
          "model_name": "LayoutModel",
          "model_module_version": "1.2.0",
          "state": {
            "_model_module": "@jupyter-widgets/base",
            "_model_module_version": "1.2.0",
            "_model_name": "LayoutModel",
            "_view_count": null,
            "_view_module": "@jupyter-widgets/base",
            "_view_module_version": "1.2.0",
            "_view_name": "LayoutView",
            "align_content": null,
            "align_items": null,
            "align_self": null,
            "border": null,
            "bottom": null,
            "display": null,
            "flex": null,
            "flex_flow": null,
            "grid_area": null,
            "grid_auto_columns": null,
            "grid_auto_flow": null,
            "grid_auto_rows": null,
            "grid_column": null,
            "grid_gap": null,
            "grid_row": null,
            "grid_template_areas": null,
            "grid_template_columns": null,
            "grid_template_rows": null,
            "height": null,
            "justify_content": null,
            "justify_items": null,
            "left": null,
            "margin": null,
            "max_height": null,
            "max_width": null,
            "min_height": null,
            "min_width": null,
            "object_fit": null,
            "object_position": null,
            "order": null,
            "overflow": null,
            "overflow_x": null,
            "overflow_y": null,
            "padding": null,
            "right": null,
            "top": null,
            "visibility": null,
            "width": null
          }
        },
        "0d8bb4485ee14afeb5f86c5b8ce83606": {
          "model_module": "@jupyter-widgets/controls",
          "model_name": "ProgressStyleModel",
          "model_module_version": "1.5.0",
          "state": {
            "_model_module": "@jupyter-widgets/controls",
            "_model_module_version": "1.5.0",
            "_model_name": "ProgressStyleModel",
            "_view_count": null,
            "_view_module": "@jupyter-widgets/base",
            "_view_module_version": "1.2.0",
            "_view_name": "StyleView",
            "bar_color": null,
            "description_width": ""
          }
        },
        "f587bfc2e7bd485c8bc068772bf06d13": {
          "model_module": "@jupyter-widgets/base",
          "model_name": "LayoutModel",
          "model_module_version": "1.2.0",
          "state": {
            "_model_module": "@jupyter-widgets/base",
            "_model_module_version": "1.2.0",
            "_model_name": "LayoutModel",
            "_view_count": null,
            "_view_module": "@jupyter-widgets/base",
            "_view_module_version": "1.2.0",
            "_view_name": "LayoutView",
            "align_content": null,
            "align_items": null,
            "align_self": null,
            "border": null,
            "bottom": null,
            "display": null,
            "flex": null,
            "flex_flow": null,
            "grid_area": null,
            "grid_auto_columns": null,
            "grid_auto_flow": null,
            "grid_auto_rows": null,
            "grid_column": null,
            "grid_gap": null,
            "grid_row": null,
            "grid_template_areas": null,
            "grid_template_columns": null,
            "grid_template_rows": null,
            "height": null,
            "justify_content": null,
            "justify_items": null,
            "left": null,
            "margin": null,
            "max_height": null,
            "max_width": null,
            "min_height": null,
            "min_width": null,
            "object_fit": null,
            "object_position": null,
            "order": null,
            "overflow": null,
            "overflow_x": null,
            "overflow_y": null,
            "padding": null,
            "right": null,
            "top": null,
            "visibility": null,
            "width": null
          }
        },
        "c91dd46446644533a874cd155381fcf7": {
          "model_module": "@jupyter-widgets/controls",
          "model_name": "DescriptionStyleModel",
          "model_module_version": "1.5.0",
          "state": {
            "_model_module": "@jupyter-widgets/controls",
            "_model_module_version": "1.5.0",
            "_model_name": "DescriptionStyleModel",
            "_view_count": null,
            "_view_module": "@jupyter-widgets/base",
            "_view_module_version": "1.2.0",
            "_view_name": "StyleView",
            "description_width": ""
          }
        },
        "a03d1aaac4764fd88bcce9c283dfedbf": {
          "model_module": "@jupyter-widgets/controls",
          "model_name": "HBoxModel",
          "model_module_version": "1.5.0",
          "state": {
            "_dom_classes": [],
            "_model_module": "@jupyter-widgets/controls",
            "_model_module_version": "1.5.0",
            "_model_name": "HBoxModel",
            "_view_count": null,
            "_view_module": "@jupyter-widgets/controls",
            "_view_module_version": "1.5.0",
            "_view_name": "HBoxView",
            "box_style": "",
            "children": [
              "IPY_MODEL_7809e67dbf734d9bb4337d656c84d581",
              "IPY_MODEL_4c416d6a9ff944108b5659b01e983254",
              "IPY_MODEL_a89a3487d7fd45bcb1f33951385cb5f1"
            ],
            "layout": "IPY_MODEL_48b714a30a7c4d55a6e4b823ed37819e"
          }
        },
        "7809e67dbf734d9bb4337d656c84d581": {
          "model_module": "@jupyter-widgets/controls",
          "model_name": "HTMLModel",
          "model_module_version": "1.5.0",
          "state": {
            "_dom_classes": [],
            "_model_module": "@jupyter-widgets/controls",
            "_model_module_version": "1.5.0",
            "_model_name": "HTMLModel",
            "_view_count": null,
            "_view_module": "@jupyter-widgets/controls",
            "_view_module_version": "1.5.0",
            "_view_name": "HTMLView",
            "description": "",
            "description_tooltip": null,
            "layout": "IPY_MODEL_3dcb0b90c31e462d98938d686d819dde",
            "placeholder": "​",
            "style": "IPY_MODEL_2ddfad6093804db9bfee108671185464",
            "value": "pytorch_model.bin: 100%"
          }
        },
        "4c416d6a9ff944108b5659b01e983254": {
          "model_module": "@jupyter-widgets/controls",
          "model_name": "FloatProgressModel",
          "model_module_version": "1.5.0",
          "state": {
            "_dom_classes": [],
            "_model_module": "@jupyter-widgets/controls",
            "_model_module_version": "1.5.0",
            "_model_name": "FloatProgressModel",
            "_view_count": null,
            "_view_module": "@jupyter-widgets/controls",
            "_view_module_version": "1.5.0",
            "_view_name": "ProgressView",
            "bar_style": "success",
            "description": "",
            "description_tooltip": null,
            "layout": "IPY_MODEL_58672739c67c4674b748530e0d2b7462",
            "max": 4114329821,
            "min": 0,
            "orientation": "horizontal",
            "style": "IPY_MODEL_18acc3ab834d48c88ef0c058b1a1a243",
            "value": 4114329821
          }
        },
        "a89a3487d7fd45bcb1f33951385cb5f1": {
          "model_module": "@jupyter-widgets/controls",
          "model_name": "HTMLModel",
          "model_module_version": "1.5.0",
          "state": {
            "_dom_classes": [],
            "_model_module": "@jupyter-widgets/controls",
            "_model_module_version": "1.5.0",
            "_model_name": "HTMLModel",
            "_view_count": null,
            "_view_module": "@jupyter-widgets/controls",
            "_view_module_version": "1.5.0",
            "_view_name": "HTMLView",
            "description": "",
            "description_tooltip": null,
            "layout": "IPY_MODEL_a63368642cc54b22bc58063a5f5d8302",
            "placeholder": "​",
            "style": "IPY_MODEL_0e599a5e991d4a998a031f46e1a23ed3",
            "value": " 4.11G/4.11G [00:54&lt;00:00, 54.9MB/s]"
          }
        },
        "48b714a30a7c4d55a6e4b823ed37819e": {
          "model_module": "@jupyter-widgets/base",
          "model_name": "LayoutModel",
          "model_module_version": "1.2.0",
          "state": {
            "_model_module": "@jupyter-widgets/base",
            "_model_module_version": "1.2.0",
            "_model_name": "LayoutModel",
            "_view_count": null,
            "_view_module": "@jupyter-widgets/base",
            "_view_module_version": "1.2.0",
            "_view_name": "LayoutView",
            "align_content": null,
            "align_items": null,
            "align_self": null,
            "border": null,
            "bottom": null,
            "display": null,
            "flex": null,
            "flex_flow": null,
            "grid_area": null,
            "grid_auto_columns": null,
            "grid_auto_flow": null,
            "grid_auto_rows": null,
            "grid_column": null,
            "grid_gap": null,
            "grid_row": null,
            "grid_template_areas": null,
            "grid_template_columns": null,
            "grid_template_rows": null,
            "height": null,
            "justify_content": null,
            "justify_items": null,
            "left": null,
            "margin": null,
            "max_height": null,
            "max_width": null,
            "min_height": null,
            "min_width": null,
            "object_fit": null,
            "object_position": null,
            "order": null,
            "overflow": null,
            "overflow_x": null,
            "overflow_y": null,
            "padding": null,
            "right": null,
            "top": null,
            "visibility": null,
            "width": null
          }
        },
        "3dcb0b90c31e462d98938d686d819dde": {
          "model_module": "@jupyter-widgets/base",
          "model_name": "LayoutModel",
          "model_module_version": "1.2.0",
          "state": {
            "_model_module": "@jupyter-widgets/base",
            "_model_module_version": "1.2.0",
            "_model_name": "LayoutModel",
            "_view_count": null,
            "_view_module": "@jupyter-widgets/base",
            "_view_module_version": "1.2.0",
            "_view_name": "LayoutView",
            "align_content": null,
            "align_items": null,
            "align_self": null,
            "border": null,
            "bottom": null,
            "display": null,
            "flex": null,
            "flex_flow": null,
            "grid_area": null,
            "grid_auto_columns": null,
            "grid_auto_flow": null,
            "grid_auto_rows": null,
            "grid_column": null,
            "grid_gap": null,
            "grid_row": null,
            "grid_template_areas": null,
            "grid_template_columns": null,
            "grid_template_rows": null,
            "height": null,
            "justify_content": null,
            "justify_items": null,
            "left": null,
            "margin": null,
            "max_height": null,
            "max_width": null,
            "min_height": null,
            "min_width": null,
            "object_fit": null,
            "object_position": null,
            "order": null,
            "overflow": null,
            "overflow_x": null,
            "overflow_y": null,
            "padding": null,
            "right": null,
            "top": null,
            "visibility": null,
            "width": null
          }
        },
        "2ddfad6093804db9bfee108671185464": {
          "model_module": "@jupyter-widgets/controls",
          "model_name": "DescriptionStyleModel",
          "model_module_version": "1.5.0",
          "state": {
            "_model_module": "@jupyter-widgets/controls",
            "_model_module_version": "1.5.0",
            "_model_name": "DescriptionStyleModel",
            "_view_count": null,
            "_view_module": "@jupyter-widgets/base",
            "_view_module_version": "1.2.0",
            "_view_name": "StyleView",
            "description_width": ""
          }
        },
        "58672739c67c4674b748530e0d2b7462": {
          "model_module": "@jupyter-widgets/base",
          "model_name": "LayoutModel",
          "model_module_version": "1.2.0",
          "state": {
            "_model_module": "@jupyter-widgets/base",
            "_model_module_version": "1.2.0",
            "_model_name": "LayoutModel",
            "_view_count": null,
            "_view_module": "@jupyter-widgets/base",
            "_view_module_version": "1.2.0",
            "_view_name": "LayoutView",
            "align_content": null,
            "align_items": null,
            "align_self": null,
            "border": null,
            "bottom": null,
            "display": null,
            "flex": null,
            "flex_flow": null,
            "grid_area": null,
            "grid_auto_columns": null,
            "grid_auto_flow": null,
            "grid_auto_rows": null,
            "grid_column": null,
            "grid_gap": null,
            "grid_row": null,
            "grid_template_areas": null,
            "grid_template_columns": null,
            "grid_template_rows": null,
            "height": null,
            "justify_content": null,
            "justify_items": null,
            "left": null,
            "margin": null,
            "max_height": null,
            "max_width": null,
            "min_height": null,
            "min_width": null,
            "object_fit": null,
            "object_position": null,
            "order": null,
            "overflow": null,
            "overflow_x": null,
            "overflow_y": null,
            "padding": null,
            "right": null,
            "top": null,
            "visibility": null,
            "width": null
          }
        },
        "18acc3ab834d48c88ef0c058b1a1a243": {
          "model_module": "@jupyter-widgets/controls",
          "model_name": "ProgressStyleModel",
          "model_module_version": "1.5.0",
          "state": {
            "_model_module": "@jupyter-widgets/controls",
            "_model_module_version": "1.5.0",
            "_model_name": "ProgressStyleModel",
            "_view_count": null,
            "_view_module": "@jupyter-widgets/base",
            "_view_module_version": "1.2.0",
            "_view_name": "StyleView",
            "bar_color": null,
            "description_width": ""
          }
        },
        "a63368642cc54b22bc58063a5f5d8302": {
          "model_module": "@jupyter-widgets/base",
          "model_name": "LayoutModel",
          "model_module_version": "1.2.0",
          "state": {
            "_model_module": "@jupyter-widgets/base",
            "_model_module_version": "1.2.0",
            "_model_name": "LayoutModel",
            "_view_count": null,
            "_view_module": "@jupyter-widgets/base",
            "_view_module_version": "1.2.0",
            "_view_name": "LayoutView",
            "align_content": null,
            "align_items": null,
            "align_self": null,
            "border": null,
            "bottom": null,
            "display": null,
            "flex": null,
            "flex_flow": null,
            "grid_area": null,
            "grid_auto_columns": null,
            "grid_auto_flow": null,
            "grid_auto_rows": null,
            "grid_column": null,
            "grid_gap": null,
            "grid_row": null,
            "grid_template_areas": null,
            "grid_template_columns": null,
            "grid_template_rows": null,
            "height": null,
            "justify_content": null,
            "justify_items": null,
            "left": null,
            "margin": null,
            "max_height": null,
            "max_width": null,
            "min_height": null,
            "min_width": null,
            "object_fit": null,
            "object_position": null,
            "order": null,
            "overflow": null,
            "overflow_x": null,
            "overflow_y": null,
            "padding": null,
            "right": null,
            "top": null,
            "visibility": null,
            "width": null
          }
        },
        "0e599a5e991d4a998a031f46e1a23ed3": {
          "model_module": "@jupyter-widgets/controls",
          "model_name": "DescriptionStyleModel",
          "model_module_version": "1.5.0",
          "state": {
            "_model_module": "@jupyter-widgets/controls",
            "_model_module_version": "1.5.0",
            "_model_name": "DescriptionStyleModel",
            "_view_count": null,
            "_view_module": "@jupyter-widgets/base",
            "_view_module_version": "1.2.0",
            "_view_name": "StyleView",
            "description_width": ""
          }
        },
        "e42078812e834229a1ad66b0f52816bf": {
          "model_module": "@jupyter-widgets/controls",
          "model_name": "HBoxModel",
          "model_module_version": "1.5.0",
          "state": {
            "_dom_classes": [],
            "_model_module": "@jupyter-widgets/controls",
            "_model_module_version": "1.5.0",
            "_model_name": "HBoxModel",
            "_view_count": null,
            "_view_module": "@jupyter-widgets/controls",
            "_view_module_version": "1.5.0",
            "_view_name": "HBoxView",
            "box_style": "",
            "children": [
              "IPY_MODEL_7cd11e42e41f4f5da524b63d3cb070da",
              "IPY_MODEL_174417f2ba4f4052bcad9a33a5f5c23a",
              "IPY_MODEL_e913bced4ef74948945902bc2358ad20"
            ],
            "layout": "IPY_MODEL_467ecb5cd20d444c84c207d7a2cd4eab"
          }
        },
        "7cd11e42e41f4f5da524b63d3cb070da": {
          "model_module": "@jupyter-widgets/controls",
          "model_name": "HTMLModel",
          "model_module_version": "1.5.0",
          "state": {
            "_dom_classes": [],
            "_model_module": "@jupyter-widgets/controls",
            "_model_module_version": "1.5.0",
            "_model_name": "HTMLModel",
            "_view_count": null,
            "_view_module": "@jupyter-widgets/controls",
            "_view_module_version": "1.5.0",
            "_view_name": "HTMLView",
            "description": "",
            "description_tooltip": null,
            "layout": "IPY_MODEL_7e0eade2c3ff47d58d83187f21ea5dcf",
            "placeholder": "​",
            "style": "IPY_MODEL_d73ff105157540d1b0521bd972ed1fe7",
            "value": "tokenizer.json: 100%"
          }
        },
        "174417f2ba4f4052bcad9a33a5f5c23a": {
          "model_module": "@jupyter-widgets/controls",
          "model_name": "FloatProgressModel",
          "model_module_version": "1.5.0",
          "state": {
            "_dom_classes": [],
            "_model_module": "@jupyter-widgets/controls",
            "_model_module_version": "1.5.0",
            "_model_name": "FloatProgressModel",
            "_view_count": null,
            "_view_module": "@jupyter-widgets/controls",
            "_view_module_version": "1.5.0",
            "_view_name": "ProgressView",
            "bar_style": "success",
            "description": "",
            "description_tooltip": null,
            "layout": "IPY_MODEL_67c5f7dd7a1143e19b55debc7928934f",
            "max": 2113837,
            "min": 0,
            "orientation": "horizontal",
            "style": "IPY_MODEL_56e39fe2f33e41f093a9af0d86150990",
            "value": 2113837
          }
        },
        "e913bced4ef74948945902bc2358ad20": {
          "model_module": "@jupyter-widgets/controls",
          "model_name": "HTMLModel",
          "model_module_version": "1.5.0",
          "state": {
            "_dom_classes": [],
            "_model_module": "@jupyter-widgets/controls",
            "_model_module_version": "1.5.0",
            "_model_name": "HTMLModel",
            "_view_count": null,
            "_view_module": "@jupyter-widgets/controls",
            "_view_module_version": "1.5.0",
            "_view_name": "HTMLView",
            "description": "",
            "description_tooltip": null,
            "layout": "IPY_MODEL_73548e88e4e046a49f0398196bf713a2",
            "placeholder": "​",
            "style": "IPY_MODEL_b14a031f2cdb4b098b17a1d4def9908d",
            "value": " 2.11M/2.11M [00:00&lt;00:00, 5.01MB/s]"
          }
        },
        "467ecb5cd20d444c84c207d7a2cd4eab": {
          "model_module": "@jupyter-widgets/base",
          "model_name": "LayoutModel",
          "model_module_version": "1.2.0",
          "state": {
            "_model_module": "@jupyter-widgets/base",
            "_model_module_version": "1.2.0",
            "_model_name": "LayoutModel",
            "_view_count": null,
            "_view_module": "@jupyter-widgets/base",
            "_view_module_version": "1.2.0",
            "_view_name": "LayoutView",
            "align_content": null,
            "align_items": null,
            "align_self": null,
            "border": null,
            "bottom": null,
            "display": null,
            "flex": null,
            "flex_flow": null,
            "grid_area": null,
            "grid_auto_columns": null,
            "grid_auto_flow": null,
            "grid_auto_rows": null,
            "grid_column": null,
            "grid_gap": null,
            "grid_row": null,
            "grid_template_areas": null,
            "grid_template_columns": null,
            "grid_template_rows": null,
            "height": null,
            "justify_content": null,
            "justify_items": null,
            "left": null,
            "margin": null,
            "max_height": null,
            "max_width": null,
            "min_height": null,
            "min_width": null,
            "object_fit": null,
            "object_position": null,
            "order": null,
            "overflow": null,
            "overflow_x": null,
            "overflow_y": null,
            "padding": null,
            "right": null,
            "top": null,
            "visibility": null,
            "width": null
          }
        },
        "7e0eade2c3ff47d58d83187f21ea5dcf": {
          "model_module": "@jupyter-widgets/base",
          "model_name": "LayoutModel",
          "model_module_version": "1.2.0",
          "state": {
            "_model_module": "@jupyter-widgets/base",
            "_model_module_version": "1.2.0",
            "_model_name": "LayoutModel",
            "_view_count": null,
            "_view_module": "@jupyter-widgets/base",
            "_view_module_version": "1.2.0",
            "_view_name": "LayoutView",
            "align_content": null,
            "align_items": null,
            "align_self": null,
            "border": null,
            "bottom": null,
            "display": null,
            "flex": null,
            "flex_flow": null,
            "grid_area": null,
            "grid_auto_columns": null,
            "grid_auto_flow": null,
            "grid_auto_rows": null,
            "grid_column": null,
            "grid_gap": null,
            "grid_row": null,
            "grid_template_areas": null,
            "grid_template_columns": null,
            "grid_template_rows": null,
            "height": null,
            "justify_content": null,
            "justify_items": null,
            "left": null,
            "margin": null,
            "max_height": null,
            "max_width": null,
            "min_height": null,
            "min_width": null,
            "object_fit": null,
            "object_position": null,
            "order": null,
            "overflow": null,
            "overflow_x": null,
            "overflow_y": null,
            "padding": null,
            "right": null,
            "top": null,
            "visibility": null,
            "width": null
          }
        },
        "d73ff105157540d1b0521bd972ed1fe7": {
          "model_module": "@jupyter-widgets/controls",
          "model_name": "DescriptionStyleModel",
          "model_module_version": "1.5.0",
          "state": {
            "_model_module": "@jupyter-widgets/controls",
            "_model_module_version": "1.5.0",
            "_model_name": "DescriptionStyleModel",
            "_view_count": null,
            "_view_module": "@jupyter-widgets/base",
            "_view_module_version": "1.2.0",
            "_view_name": "StyleView",
            "description_width": ""
          }
        },
        "67c5f7dd7a1143e19b55debc7928934f": {
          "model_module": "@jupyter-widgets/base",
          "model_name": "LayoutModel",
          "model_module_version": "1.2.0",
          "state": {
            "_model_module": "@jupyter-widgets/base",
            "_model_module_version": "1.2.0",
            "_model_name": "LayoutModel",
            "_view_count": null,
            "_view_module": "@jupyter-widgets/base",
            "_view_module_version": "1.2.0",
            "_view_name": "LayoutView",
            "align_content": null,
            "align_items": null,
            "align_self": null,
            "border": null,
            "bottom": null,
            "display": null,
            "flex": null,
            "flex_flow": null,
            "grid_area": null,
            "grid_auto_columns": null,
            "grid_auto_flow": null,
            "grid_auto_rows": null,
            "grid_column": null,
            "grid_gap": null,
            "grid_row": null,
            "grid_template_areas": null,
            "grid_template_columns": null,
            "grid_template_rows": null,
            "height": null,
            "justify_content": null,
            "justify_items": null,
            "left": null,
            "margin": null,
            "max_height": null,
            "max_width": null,
            "min_height": null,
            "min_width": null,
            "object_fit": null,
            "object_position": null,
            "order": null,
            "overflow": null,
            "overflow_x": null,
            "overflow_y": null,
            "padding": null,
            "right": null,
            "top": null,
            "visibility": null,
            "width": null
          }
        },
        "56e39fe2f33e41f093a9af0d86150990": {
          "model_module": "@jupyter-widgets/controls",
          "model_name": "ProgressStyleModel",
          "model_module_version": "1.5.0",
          "state": {
            "_model_module": "@jupyter-widgets/controls",
            "_model_module_version": "1.5.0",
            "_model_name": "ProgressStyleModel",
            "_view_count": null,
            "_view_module": "@jupyter-widgets/base",
            "_view_module_version": "1.2.0",
            "_view_name": "StyleView",
            "bar_color": null,
            "description_width": ""
          }
        },
        "73548e88e4e046a49f0398196bf713a2": {
          "model_module": "@jupyter-widgets/base",
          "model_name": "LayoutModel",
          "model_module_version": "1.2.0",
          "state": {
            "_model_module": "@jupyter-widgets/base",
            "_model_module_version": "1.2.0",
            "_model_name": "LayoutModel",
            "_view_count": null,
            "_view_module": "@jupyter-widgets/base",
            "_view_module_version": "1.2.0",
            "_view_name": "LayoutView",
            "align_content": null,
            "align_items": null,
            "align_self": null,
            "border": null,
            "bottom": null,
            "display": null,
            "flex": null,
            "flex_flow": null,
            "grid_area": null,
            "grid_auto_columns": null,
            "grid_auto_flow": null,
            "grid_auto_rows": null,
            "grid_column": null,
            "grid_gap": null,
            "grid_row": null,
            "grid_template_areas": null,
            "grid_template_columns": null,
            "grid_template_rows": null,
            "height": null,
            "justify_content": null,
            "justify_items": null,
            "left": null,
            "margin": null,
            "max_height": null,
            "max_width": null,
            "min_height": null,
            "min_width": null,
            "object_fit": null,
            "object_position": null,
            "order": null,
            "overflow": null,
            "overflow_x": null,
            "overflow_y": null,
            "padding": null,
            "right": null,
            "top": null,
            "visibility": null,
            "width": null
          }
        },
        "b14a031f2cdb4b098b17a1d4def9908d": {
          "model_module": "@jupyter-widgets/controls",
          "model_name": "DescriptionStyleModel",
          "model_module_version": "1.5.0",
          "state": {
            "_model_module": "@jupyter-widgets/controls",
            "_model_module_version": "1.5.0",
            "_model_name": "DescriptionStyleModel",
            "_view_count": null,
            "_view_module": "@jupyter-widgets/base",
            "_view_module_version": "1.2.0",
            "_view_name": "StyleView",
            "description_width": ""
          }
        }
      }
    }
  },
  "cells": [
    {
      "cell_type": "markdown",
      "metadata": {
        "id": "view-in-github",
        "colab_type": "text"
      },
      "source": [
        "<a href=\"https://colab.research.google.com/github/SUPERREALCODER/buisness_report_rag/blob/main/buisness_report.ipynb\" target=\"_parent\"><img src=\"https://colab.research.google.com/assets/colab-badge.svg\" alt=\"Open In Colab\"/></a>"
      ]
    },
    {
      "cell_type": "code",
      "execution_count": 1,
      "metadata": {
        "colab": {
          "base_uri": "https://localhost:8080/"
        },
        "id": "liIz2Yv9gXA4",
        "outputId": "45fa56db-f97c-4220-eb2b-d729c44666e7"
      },
      "outputs": [
        {
          "output_type": "stream",
          "name": "stdout",
          "text": [
            "Collecting llmware\n",
            "  Downloading llmware-0.2.14-py3-none-any.whl (56.0 MB)\n",
            "\u001b[2K     \u001b[90m━━━━━━━━━━━━━━━━━━━━━━━━━━━━━━━━━━━━━━━━\u001b[0m \u001b[32m56.0/56.0 MB\u001b[0m \u001b[31m12.6 MB/s\u001b[0m eta \u001b[36m0:00:00\u001b[0m\n",
            "\u001b[?25hCollecting boto3==1.24.53 (from llmware)\n",
            "  Downloading boto3-1.24.53-py3-none-any.whl (132 kB)\n",
            "\u001b[2K     \u001b[90m━━━━━━━━━━━━━━━━━━━━━━━━━━━━━━━━━━━━━━━━\u001b[0m \u001b[32m132.5/132.5 kB\u001b[0m \u001b[31m2.8 MB/s\u001b[0m eta \u001b[36m0:00:00\u001b[0m\n",
            "\u001b[?25hRequirement already satisfied: huggingface-hub>=0.19.4 in /usr/local/lib/python3.10/dist-packages (from llmware) (0.20.3)\n",
            "Requirement already satisfied: numpy>=1.23.2 in /usr/local/lib/python3.10/dist-packages (from llmware) (1.25.2)\n",
            "Collecting openai>=1.0.0 (from llmware)\n",
            "  Downloading openai-1.30.1-py3-none-any.whl (320 kB)\n",
            "\u001b[2K     \u001b[90m━━━━━━━━━━━━━━━━━━━━━━━━━━━━━━━━━━━━━━━━\u001b[0m \u001b[32m320.6/320.6 kB\u001b[0m \u001b[31m21.6 MB/s\u001b[0m eta \u001b[36m0:00:00\u001b[0m\n",
            "\u001b[?25hCollecting pymongo>=4.7.0 (from llmware)\n",
            "  Downloading pymongo-4.7.2-cp310-cp310-manylinux_2_17_x86_64.manylinux2014_x86_64.whl (670 kB)\n",
            "\u001b[2K     \u001b[90m━━━━━━━━━━━━━━━━━━━━━━━━━━━━━━━━━━━━━━━━\u001b[0m \u001b[32m670.0/670.0 kB\u001b[0m \u001b[31m5.7 MB/s\u001b[0m eta \u001b[36m0:00:00\u001b[0m\n",
            "\u001b[?25hRequirement already satisfied: tokenizers>=0.15.0 in /usr/local/lib/python3.10/dist-packages (from llmware) (0.19.1)\n",
            "Requirement already satisfied: torch>=1.13.1 in /usr/local/lib/python3.10/dist-packages (from llmware) (2.2.1+cu121)\n",
            "Requirement already satisfied: transformers>=4.36.0 in /usr/local/lib/python3.10/dist-packages (from llmware) (4.40.2)\n",
            "Collecting Wikipedia-API==0.6.0 (from llmware)\n",
            "  Downloading Wikipedia_API-0.6.0-py3-none-any.whl (14 kB)\n",
            "Collecting psycopg-binary==3.1.17 (from llmware)\n",
            "  Downloading psycopg_binary-3.1.17-cp310-cp310-manylinux_2_17_x86_64.manylinux2014_x86_64.whl (3.3 MB)\n",
            "\u001b[2K     \u001b[90m━━━━━━━━━━━━━━━━━━━━━━━━━━━━━━━━━━━━━━━━\u001b[0m \u001b[32m3.3/3.3 MB\u001b[0m \u001b[31m42.0 MB/s\u001b[0m eta \u001b[36m0:00:00\u001b[0m\n",
            "\u001b[?25hCollecting psycopg==3.1.17 (from llmware)\n",
            "  Downloading psycopg-3.1.17-py3-none-any.whl (178 kB)\n",
            "\u001b[2K     \u001b[90m━━━━━━━━━━━━━━━━━━━━━━━━━━━━━━━━━━━━━━━━\u001b[0m \u001b[32m178.0/178.0 kB\u001b[0m \u001b[31m16.7 MB/s\u001b[0m eta \u001b[36m0:00:00\u001b[0m\n",
            "\u001b[?25hCollecting pgvector==0.2.4 (from llmware)\n",
            "  Downloading pgvector-0.2.4-py2.py3-none-any.whl (9.6 kB)\n",
            "Collecting colorama==0.4.6 (from llmware)\n",
            "  Downloading colorama-0.4.6-py2.py3-none-any.whl (25 kB)\n",
            "Collecting einops==0.7.0 (from llmware)\n",
            "  Downloading einops-0.7.0-py3-none-any.whl (44 kB)\n",
            "\u001b[2K     \u001b[90m━━━━━━━━━━━━━━━━━━━━━━━━━━━━━━━━━━━━━━━━\u001b[0m \u001b[32m44.6/44.6 kB\u001b[0m \u001b[31m3.6 MB/s\u001b[0m eta \u001b[36m0:00:00\u001b[0m\n",
            "\u001b[?25hRequirement already satisfied: librosa>=0.10.0 in /usr/local/lib/python3.10/dist-packages (from llmware) (0.10.2.post1)\n",
            "Collecting botocore<1.28.0,>=1.27.53 (from boto3==1.24.53->llmware)\n",
            "  Downloading botocore-1.27.96-py3-none-any.whl (9.3 MB)\n",
            "\u001b[2K     \u001b[90m━━━━━━━━━━━━━━━━━━━━━━━━━━━━━━━━━━━━━━━━\u001b[0m \u001b[32m9.3/9.3 MB\u001b[0m \u001b[31m35.6 MB/s\u001b[0m eta \u001b[36m0:00:00\u001b[0m\n",
            "\u001b[?25hCollecting jmespath<2.0.0,>=0.7.1 (from boto3==1.24.53->llmware)\n",
            "  Downloading jmespath-1.0.1-py3-none-any.whl (20 kB)\n",
            "Collecting s3transfer<0.7.0,>=0.6.0 (from boto3==1.24.53->llmware)\n",
            "  Downloading s3transfer-0.6.2-py3-none-any.whl (79 kB)\n",
            "\u001b[2K     \u001b[90m━━━━━━━━━━━━━━━━━━━━━━━━━━━━━━━━━━━━━━━━\u001b[0m \u001b[32m79.8/79.8 kB\u001b[0m \u001b[31m6.7 MB/s\u001b[0m eta \u001b[36m0:00:00\u001b[0m\n",
            "\u001b[?25hRequirement already satisfied: typing-extensions>=4.1 in /usr/local/lib/python3.10/dist-packages (from psycopg==3.1.17->llmware) (4.11.0)\n",
            "Requirement already satisfied: requests in /usr/local/lib/python3.10/dist-packages (from Wikipedia-API==0.6.0->llmware) (2.31.0)\n",
            "Requirement already satisfied: filelock in /usr/local/lib/python3.10/dist-packages (from huggingface-hub>=0.19.4->llmware) (3.14.0)\n",
            "Requirement already satisfied: fsspec>=2023.5.0 in /usr/local/lib/python3.10/dist-packages (from huggingface-hub>=0.19.4->llmware) (2023.6.0)\n",
            "Requirement already satisfied: tqdm>=4.42.1 in /usr/local/lib/python3.10/dist-packages (from huggingface-hub>=0.19.4->llmware) (4.66.4)\n",
            "Requirement already satisfied: pyyaml>=5.1 in /usr/local/lib/python3.10/dist-packages (from huggingface-hub>=0.19.4->llmware) (6.0.1)\n",
            "Requirement already satisfied: packaging>=20.9 in /usr/local/lib/python3.10/dist-packages (from huggingface-hub>=0.19.4->llmware) (24.0)\n",
            "Requirement already satisfied: audioread>=2.1.9 in /usr/local/lib/python3.10/dist-packages (from librosa>=0.10.0->llmware) (3.0.1)\n",
            "Requirement already satisfied: scipy>=1.2.0 in /usr/local/lib/python3.10/dist-packages (from librosa>=0.10.0->llmware) (1.11.4)\n",
            "Requirement already satisfied: scikit-learn>=0.20.0 in /usr/local/lib/python3.10/dist-packages (from librosa>=0.10.0->llmware) (1.2.2)\n",
            "Requirement already satisfied: joblib>=0.14 in /usr/local/lib/python3.10/dist-packages (from librosa>=0.10.0->llmware) (1.4.2)\n",
            "Requirement already satisfied: decorator>=4.3.0 in /usr/local/lib/python3.10/dist-packages (from librosa>=0.10.0->llmware) (4.4.2)\n",
            "Requirement already satisfied: numba>=0.51.0 in /usr/local/lib/python3.10/dist-packages (from librosa>=0.10.0->llmware) (0.58.1)\n",
            "Requirement already satisfied: soundfile>=0.12.1 in /usr/local/lib/python3.10/dist-packages (from librosa>=0.10.0->llmware) (0.12.1)\n",
            "Requirement already satisfied: pooch>=1.1 in /usr/local/lib/python3.10/dist-packages (from librosa>=0.10.0->llmware) (1.8.1)\n",
            "Requirement already satisfied: soxr>=0.3.2 in /usr/local/lib/python3.10/dist-packages (from librosa>=0.10.0->llmware) (0.3.7)\n",
            "Requirement already satisfied: lazy-loader>=0.1 in /usr/local/lib/python3.10/dist-packages (from librosa>=0.10.0->llmware) (0.4)\n",
            "Requirement already satisfied: msgpack>=1.0 in /usr/local/lib/python3.10/dist-packages (from librosa>=0.10.0->llmware) (1.0.8)\n",
            "Requirement already satisfied: anyio<5,>=3.5.0 in /usr/local/lib/python3.10/dist-packages (from openai>=1.0.0->llmware) (3.7.1)\n",
            "Requirement already satisfied: distro<2,>=1.7.0 in /usr/lib/python3/dist-packages (from openai>=1.0.0->llmware) (1.7.0)\n",
            "Collecting httpx<1,>=0.23.0 (from openai>=1.0.0->llmware)\n",
            "  Downloading httpx-0.27.0-py3-none-any.whl (75 kB)\n",
            "\u001b[2K     \u001b[90m━━━━━━━━━━━━━━━━━━━━━━━━━━━━━━━━━━━━━━━━\u001b[0m \u001b[32m75.6/75.6 kB\u001b[0m \u001b[31m3.6 MB/s\u001b[0m eta \u001b[36m0:00:00\u001b[0m\n",
            "\u001b[?25hRequirement already satisfied: pydantic<3,>=1.9.0 in /usr/local/lib/python3.10/dist-packages (from openai>=1.0.0->llmware) (2.7.1)\n",
            "Requirement already satisfied: sniffio in /usr/local/lib/python3.10/dist-packages (from openai>=1.0.0->llmware) (1.3.1)\n",
            "Collecting dnspython<3.0.0,>=1.16.0 (from pymongo>=4.7.0->llmware)\n",
            "  Downloading dnspython-2.6.1-py3-none-any.whl (307 kB)\n",
            "\u001b[2K     \u001b[90m━━━━━━━━━━━━━━━━━━━━━━━━━━━━━━━━━━━━━━━━\u001b[0m \u001b[32m307.7/307.7 kB\u001b[0m \u001b[31m13.1 MB/s\u001b[0m eta \u001b[36m0:00:00\u001b[0m\n",
            "\u001b[?25hRequirement already satisfied: sympy in /usr/local/lib/python3.10/dist-packages (from torch>=1.13.1->llmware) (1.12)\n",
            "Requirement already satisfied: networkx in /usr/local/lib/python3.10/dist-packages (from torch>=1.13.1->llmware) (3.3)\n",
            "Requirement already satisfied: jinja2 in /usr/local/lib/python3.10/dist-packages (from torch>=1.13.1->llmware) (3.1.4)\n",
            "Collecting nvidia-cuda-nvrtc-cu12==12.1.105 (from torch>=1.13.1->llmware)\n",
            "  Using cached nvidia_cuda_nvrtc_cu12-12.1.105-py3-none-manylinux1_x86_64.whl (23.7 MB)\n",
            "Collecting nvidia-cuda-runtime-cu12==12.1.105 (from torch>=1.13.1->llmware)\n",
            "  Using cached nvidia_cuda_runtime_cu12-12.1.105-py3-none-manylinux1_x86_64.whl (823 kB)\n",
            "Collecting nvidia-cuda-cupti-cu12==12.1.105 (from torch>=1.13.1->llmware)\n",
            "  Using cached nvidia_cuda_cupti_cu12-12.1.105-py3-none-manylinux1_x86_64.whl (14.1 MB)\n",
            "Collecting nvidia-cudnn-cu12==8.9.2.26 (from torch>=1.13.1->llmware)\n",
            "  Using cached nvidia_cudnn_cu12-8.9.2.26-py3-none-manylinux1_x86_64.whl (731.7 MB)\n",
            "Collecting nvidia-cublas-cu12==12.1.3.1 (from torch>=1.13.1->llmware)\n",
            "  Using cached nvidia_cublas_cu12-12.1.3.1-py3-none-manylinux1_x86_64.whl (410.6 MB)\n",
            "Collecting nvidia-cufft-cu12==11.0.2.54 (from torch>=1.13.1->llmware)\n",
            "  Using cached nvidia_cufft_cu12-11.0.2.54-py3-none-manylinux1_x86_64.whl (121.6 MB)\n",
            "Collecting nvidia-curand-cu12==10.3.2.106 (from torch>=1.13.1->llmware)\n",
            "  Using cached nvidia_curand_cu12-10.3.2.106-py3-none-manylinux1_x86_64.whl (56.5 MB)\n",
            "Collecting nvidia-cusolver-cu12==11.4.5.107 (from torch>=1.13.1->llmware)\n",
            "  Using cached nvidia_cusolver_cu12-11.4.5.107-py3-none-manylinux1_x86_64.whl (124.2 MB)\n",
            "Collecting nvidia-cusparse-cu12==12.1.0.106 (from torch>=1.13.1->llmware)\n",
            "  Using cached nvidia_cusparse_cu12-12.1.0.106-py3-none-manylinux1_x86_64.whl (196.0 MB)\n",
            "Collecting nvidia-nccl-cu12==2.19.3 (from torch>=1.13.1->llmware)\n",
            "  Using cached nvidia_nccl_cu12-2.19.3-py3-none-manylinux1_x86_64.whl (166.0 MB)\n",
            "Collecting nvidia-nvtx-cu12==12.1.105 (from torch>=1.13.1->llmware)\n",
            "  Using cached nvidia_nvtx_cu12-12.1.105-py3-none-manylinux1_x86_64.whl (99 kB)\n",
            "Requirement already satisfied: triton==2.2.0 in /usr/local/lib/python3.10/dist-packages (from torch>=1.13.1->llmware) (2.2.0)\n",
            "Collecting nvidia-nvjitlink-cu12 (from nvidia-cusolver-cu12==11.4.5.107->torch>=1.13.1->llmware)\n",
            "  Using cached nvidia_nvjitlink_cu12-12.4.127-py3-none-manylinux2014_x86_64.whl (21.1 MB)\n",
            "Requirement already satisfied: regex!=2019.12.17 in /usr/local/lib/python3.10/dist-packages (from transformers>=4.36.0->llmware) (2023.12.25)\n",
            "Requirement already satisfied: safetensors>=0.4.1 in /usr/local/lib/python3.10/dist-packages (from transformers>=4.36.0->llmware) (0.4.3)\n",
            "Requirement already satisfied: idna>=2.8 in /usr/local/lib/python3.10/dist-packages (from anyio<5,>=3.5.0->openai>=1.0.0->llmware) (3.7)\n",
            "Requirement already satisfied: exceptiongroup in /usr/local/lib/python3.10/dist-packages (from anyio<5,>=3.5.0->openai>=1.0.0->llmware) (1.2.1)\n",
            "Requirement already satisfied: python-dateutil<3.0.0,>=2.1 in /usr/local/lib/python3.10/dist-packages (from botocore<1.28.0,>=1.27.53->boto3==1.24.53->llmware) (2.8.2)\n",
            "Collecting urllib3<1.27,>=1.25.4 (from botocore<1.28.0,>=1.27.53->boto3==1.24.53->llmware)\n",
            "  Downloading urllib3-1.26.18-py2.py3-none-any.whl (143 kB)\n",
            "\u001b[2K     \u001b[90m━━━━━━━━━━━━━━━━━━━━━━━━━━━━━━━━━━━━━━━━\u001b[0m \u001b[32m143.8/143.8 kB\u001b[0m \u001b[31m16.1 MB/s\u001b[0m eta \u001b[36m0:00:00\u001b[0m\n",
            "\u001b[?25hRequirement already satisfied: certifi in /usr/local/lib/python3.10/dist-packages (from httpx<1,>=0.23.0->openai>=1.0.0->llmware) (2024.2.2)\n",
            "Collecting httpcore==1.* (from httpx<1,>=0.23.0->openai>=1.0.0->llmware)\n",
            "  Downloading httpcore-1.0.5-py3-none-any.whl (77 kB)\n",
            "\u001b[2K     \u001b[90m━━━━━━━━━━━━━━━━━━━━━━━━━━━━━━━━━━━━━━━━\u001b[0m \u001b[32m77.9/77.9 kB\u001b[0m \u001b[31m7.6 MB/s\u001b[0m eta \u001b[36m0:00:00\u001b[0m\n",
            "\u001b[?25hCollecting h11<0.15,>=0.13 (from httpcore==1.*->httpx<1,>=0.23.0->openai>=1.0.0->llmware)\n",
            "  Downloading h11-0.14.0-py3-none-any.whl (58 kB)\n",
            "\u001b[2K     \u001b[90m━━━━━━━━━━━━━━━━━━━━━━━━━━━━━━━━━━━━━━━━\u001b[0m \u001b[32m58.3/58.3 kB\u001b[0m \u001b[31m7.5 MB/s\u001b[0m eta \u001b[36m0:00:00\u001b[0m\n",
            "\u001b[?25hRequirement already satisfied: llvmlite<0.42,>=0.41.0dev0 in /usr/local/lib/python3.10/dist-packages (from numba>=0.51.0->librosa>=0.10.0->llmware) (0.41.1)\n",
            "Requirement already satisfied: platformdirs>=2.5.0 in /usr/local/lib/python3.10/dist-packages (from pooch>=1.1->librosa>=0.10.0->llmware) (4.2.1)\n",
            "Requirement already satisfied: annotated-types>=0.4.0 in /usr/local/lib/python3.10/dist-packages (from pydantic<3,>=1.9.0->openai>=1.0.0->llmware) (0.6.0)\n",
            "Requirement already satisfied: pydantic-core==2.18.2 in /usr/local/lib/python3.10/dist-packages (from pydantic<3,>=1.9.0->openai>=1.0.0->llmware) (2.18.2)\n",
            "Requirement already satisfied: charset-normalizer<4,>=2 in /usr/local/lib/python3.10/dist-packages (from requests->Wikipedia-API==0.6.0->llmware) (3.3.2)\n",
            "Requirement already satisfied: threadpoolctl>=2.0.0 in /usr/local/lib/python3.10/dist-packages (from scikit-learn>=0.20.0->librosa>=0.10.0->llmware) (3.5.0)\n",
            "Requirement already satisfied: cffi>=1.0 in /usr/local/lib/python3.10/dist-packages (from soundfile>=0.12.1->librosa>=0.10.0->llmware) (1.16.0)\n",
            "Requirement already satisfied: MarkupSafe>=2.0 in /usr/local/lib/python3.10/dist-packages (from jinja2->torch>=1.13.1->llmware) (2.1.5)\n",
            "Requirement already satisfied: mpmath>=0.19 in /usr/local/lib/python3.10/dist-packages (from sympy->torch>=1.13.1->llmware) (1.3.0)\n",
            "Requirement already satisfied: pycparser in /usr/local/lib/python3.10/dist-packages (from cffi>=1.0->soundfile>=0.12.1->librosa>=0.10.0->llmware) (2.22)\n",
            "Requirement already satisfied: six>=1.5 in /usr/local/lib/python3.10/dist-packages (from python-dateutil<3.0.0,>=2.1->botocore<1.28.0,>=1.27.53->boto3==1.24.53->llmware) (1.16.0)\n",
            "Installing collected packages: urllib3, psycopg-binary, psycopg, pgvector, nvidia-nvtx-cu12, nvidia-nvjitlink-cu12, nvidia-nccl-cu12, nvidia-curand-cu12, nvidia-cufft-cu12, nvidia-cuda-runtime-cu12, nvidia-cuda-nvrtc-cu12, nvidia-cuda-cupti-cu12, nvidia-cublas-cu12, jmespath, h11, einops, dnspython, colorama, pymongo, nvidia-cusparse-cu12, nvidia-cudnn-cu12, httpcore, botocore, Wikipedia-API, s3transfer, nvidia-cusolver-cu12, httpx, openai, boto3, llmware\n",
            "  Attempting uninstall: urllib3\n",
            "    Found existing installation: urllib3 2.0.7\n",
            "    Uninstalling urllib3-2.0.7:\n",
            "      Successfully uninstalled urllib3-2.0.7\n",
            "Successfully installed Wikipedia-API-0.6.0 boto3-1.24.53 botocore-1.27.96 colorama-0.4.6 dnspython-2.6.1 einops-0.7.0 h11-0.14.0 httpcore-1.0.5 httpx-0.27.0 jmespath-1.0.1 llmware-0.2.14 nvidia-cublas-cu12-12.1.3.1 nvidia-cuda-cupti-cu12-12.1.105 nvidia-cuda-nvrtc-cu12-12.1.105 nvidia-cuda-runtime-cu12-12.1.105 nvidia-cudnn-cu12-8.9.2.26 nvidia-cufft-cu12-11.0.2.54 nvidia-curand-cu12-10.3.2.106 nvidia-cusolver-cu12-11.4.5.107 nvidia-cusparse-cu12-12.1.0.106 nvidia-nccl-cu12-2.19.3 nvidia-nvjitlink-cu12-12.4.127 nvidia-nvtx-cu12-12.1.105 openai-1.30.1 pgvector-0.2.4 psycopg-3.1.17 psycopg-binary-3.1.17 pymongo-4.7.2 s3transfer-0.6.2 urllib3-1.26.18\n"
          ]
        }
      ],
      "source": [
        "!pip3 install llmware"
      ]
    },
    {
      "cell_type": "code",
      "source": [
        "  from llmware.setup import Setup\n",
        "  sample_files_path = Setup().load_sample_files()\n"
      ],
      "metadata": {
        "id": "F4Rl5k6docE4"
      },
      "execution_count": 2,
      "outputs": []
    },
    {
      "cell_type": "code",
      "source": [
        "\n",
        "\n",
        "\n",
        "import os\n",
        "import re\n",
        "from llmware.prompts import Prompt, HumanInTheLoop\n",
        "from llmware.setup import Setup\n",
        "from llmware.configs import LLMWareConfig\n",
        "from llmware.retrieval import Query\n",
        "from llmware.library import Library\n",
        "\n",
        "\n",
        "def busines_report_analysis_from_library (model_name, verbose=False):\n",
        "\n",
        "\n",
        "\n",
        "\n",
        "    print (f\"\\n > Loading the llmware sample files...\")\n",
        "    sample_files_path = Setup().load_sample_files()\n",
        "    contracts_path = os.path.join(sample_files_path,\"FinDocs\")\n",
        "\n",
        "    contracts_lib = Library().create_new_library(\"example4_library\")\n",
        "    contracts_lib.add_files(contracts_path)\n",
        "\n",
        "    # questions that we want to ask each report\n",
        "    question_list = [\n",
        "    {\"topic\": \"Company Overview\", \"llm_query\": \"What is the mission statement of the company?\"},\n",
        "    {\"topic\": \"Financial Highlights\", \"llm_query\": \"What are the key financial highlights for the year?\"},\n",
        "    {\"topic\": \"Revenue\", \"llm_query\": \"What is the total revenue reported for the year?\"},\n",
        "    {\"topic\": \"Net Income\", \"llm_query\": \"What is the net income for the year?\"},\n",
        "    {\"topic\": \"Cash Flow\", \"llm_query\": \"What are the net cash flows from operating activities?\"},\n",
        "    {\"topic\": \"Auditor's Report\", \"llm_query\": \"What is the auditor's opinion on the financial statements?\"},\n",
        "    {\"topic\": \"Risk Factors\", \"llm_query\": \"What are the primary risk factors mentioned?\"},\n",
        "    {\"topic\": \"Market Position\", \"llm_query\": \"How does the company describe its market position?\"},\n",
        "    {\"topic\": \"Board of Directors\", \"llm_query\": \"Who are the members of the board of directors?\"},\n",
        "    {\"topic\": \"Executive Compensation\", \"llm_query\": \"What is the total compensation for the CEO?\"},\n",
        "    {\"topic\": \"Strategic Initiatives\", \"llm_query\": \"What are the key strategic initiatives outlined for the upcoming year?\"},\n",
        "    {\"topic\": \"Dividends\", \"llm_query\": \"What is the company's dividend policy?\"},\n",
        "    {\"topic\": \"Environmental Initiatives\", \"llm_query\": \"What environmental initiatives did the company undertake?\"},\n",
        "    {\"topic\": \"Corporate Social Responsibility\", \"llm_query\": \"What CSR activities are highlighted in the report?\"},\n",
        "    {\"topic\": \"Shareholder Information\", \"llm_query\": \"How did the company's stock perform over the past year?\"},\n",
        "    {\"topic\": \"Business Segments\", \"llm_query\": \"What are the different business segments and their revenues?\"},\n",
        "    {\"topic\": \"Governance\", \"llm_query\": \"What governance practices are described in the report?\"},\n",
        "    {\"topic\": \"Future Outlook\", \"llm_query\": \"What is the management's outlook for the next fiscal year?\"},\n",
        "    {\"topic\": \"Legal Proceedings\", \"llm_query\": \"Are there any significant legal proceedings mentioned?\"},\n",
        "    {\"topic\": \"Research and Development\", \"llm_query\": \"How much did the company spend on research and development?\"}\n",
        "]\n",
        "    print (f\"\\n > Loading model {model_name}...\")\n",
        "\n",
        "    q = Query(contracts_lib)\n",
        "\n",
        "    # get a list of all of the unique documents in the library\n",
        "\n",
        "    # doc id list\n",
        "    doc_list = q.list_doc_id()\n",
        "    print(\"update: document id list - \", doc_list)\n",
        "\n",
        "    # filename list\n",
        "    fn_list = q.list_doc_fn()\n",
        "    print(\"update: filename list - \", fn_list)\n",
        "\n",
        "    prompter = Prompt().load_model(model_name)\n",
        "\n",
        "    for i, doc_id in enumerate(doc_list):\n",
        "\n",
        "        print(\"\\nAnalyzing contract: \", str(i+1), doc_id, fn_list[i])\n",
        "\n",
        "        print(\"LLM Responses:\")\n",
        "\n",
        "        for question in question_list:\n",
        "\n",
        "            query_topic = question[\"topic\"]\n",
        "            llm_question = question[\"llm_query\"]\n",
        "\n",
        "            doc_filter = {\"doc_ID\": [doc_id]}\n",
        "            query_results = q.text_query_with_document_filter(query_topic,doc_filter,result_count=5,exact_mode=True)\n",
        "\n",
        "            if verbose:\n",
        "                # this will display the query results from the query above\n",
        "                for j, qr in enumerate(query_results):\n",
        "                    print(\"update: querying document - \", query_topic, j, doc_filter, qr)\n",
        "\n",
        "            source = prompter.add_source_query_results(query_results)\n",
        "\n",
        "            #   *** this is the call to the llm with the source packaged in the context automatically ***\n",
        "            responses = prompter.prompt_with_source(llm_question, prompt_name=\"default_with_context\", temperature=0.3)\n",
        "\n",
        "            #   unpacking the results from the LLM\n",
        "            for r, response in enumerate(responses):\n",
        "                print(\"update: llm response -  \", llm_question, re.sub(\"[\\n]\",\" \", response[\"llm_response\"]).strip())\n",
        "\n",
        "            # We're done with this contract, clear the source from the prompt\n",
        "            prompter.clear_source_materials()\n",
        "\n",
        "    #   Save jsonl report to jsonl to /prompt_history folder\n",
        "    print(\"\\nPrompt state saved at: \", os.path.join(LLMWareConfig.get_prompt_path(),prompter.prompt_id))\n",
        "    prompter.save_state()\n",
        "\n",
        "    #   Save csv report that includes the model, response, prompt, and evidence for human-in-the-loop review\n",
        "    csv_output = HumanInTheLoop(prompter).export_current_interaction_to_csv()\n",
        "    print(\"\\nCSV output saved at:  \", csv_output)\n",
        "\n",
        "    return 0\n",
        "\n",
        "\n",
        "\n",
        "\n",
        "\n",
        "\n",
        "\n",
        "if __name__ == \"__main__\":\n",
        "\n",
        "\n",
        "    LLMWareConfig().set_active_db(\"sqlite\")\n",
        "\n",
        "    example_models = [\"llmware/bling-1b-0.1\", \"llmware/bling-tiny-llama-v0\", \"llmware/dragon-yi-6b-gguf\"]\n",
        "\n",
        "\n",
        "\n",
        "\n",
        "    model_name = example_models[0]\n",
        "\n",
        "\n",
        "    busines_report_analysis_from_library(model_name)\n",
        "\n",
        ""
      ],
      "metadata": {
        "colab": {
          "base_uri": "https://localhost:8080/",
          "height": 1000,
          "referenced_widgets": [
            "99b93ae8c29c48c9b2b944b8f20a54b5",
            "554dd49aea964b3c9a25e9f73342f689",
            "27a876b4cd5c4b21b07a0d00ebe3a9fb",
            "c4e75557107f4b77801d23f993005272",
            "8abd26c1bb1845a1aeb3d8bf577d43d7",
            "1ae277eb743b433fa36b132312edf114",
            "0915f4b807e146e9bb4fc4a9f22e239a",
            "f48b416ba3cc4db7be7cc653564411c9",
            "0d8bb4485ee14afeb5f86c5b8ce83606",
            "f587bfc2e7bd485c8bc068772bf06d13",
            "c91dd46446644533a874cd155381fcf7",
            "a03d1aaac4764fd88bcce9c283dfedbf",
            "7809e67dbf734d9bb4337d656c84d581",
            "4c416d6a9ff944108b5659b01e983254",
            "a89a3487d7fd45bcb1f33951385cb5f1",
            "48b714a30a7c4d55a6e4b823ed37819e",
            "3dcb0b90c31e462d98938d686d819dde",
            "2ddfad6093804db9bfee108671185464",
            "58672739c67c4674b748530e0d2b7462",
            "18acc3ab834d48c88ef0c058b1a1a243",
            "a63368642cc54b22bc58063a5f5d8302",
            "0e599a5e991d4a998a031f46e1a23ed3",
            "e42078812e834229a1ad66b0f52816bf",
            "7cd11e42e41f4f5da524b63d3cb070da",
            "174417f2ba4f4052bcad9a33a5f5c23a",
            "e913bced4ef74948945902bc2358ad20",
            "467ecb5cd20d444c84c207d7a2cd4eab",
            "7e0eade2c3ff47d58d83187f21ea5dcf",
            "d73ff105157540d1b0521bd972ed1fe7",
            "67c5f7dd7a1143e19b55debc7928934f",
            "56e39fe2f33e41f093a9af0d86150990",
            "73548e88e4e046a49f0398196bf713a2",
            "b14a031f2cdb4b098b17a1d4def9908d"
          ]
        },
        "id": "8OdAfvERgsUf",
        "outputId": "041c3095-e117-4035-b4a2-77e26c557be8"
      },
      "execution_count": 6,
      "outputs": [
        {
          "output_type": "stream",
          "name": "stdout",
          "text": [
            "\n",
            " > Loading the llmware sample files...\n",
            "\n",
            " > Loading model llmware/bling-1b-0.1...\n",
            "update: document id list -  [2, 3, 4, 5, 6, 7]\n",
            "update: filename list -  ['accenture-fiscal-2021-annual-report.pdf', 'q3-fy22-earnings-release.pdf', 'Q2-2022-Amazon-Earnings-Release.pdf', 'Amazon-2021-Annual-Report.pdf', 'Annual_Report_2003.pdf', 'IBM 2021 Annual report.pdf']\n"
          ]
        },
        {
          "output_type": "stream",
          "name": "stderr",
          "text": [
            "/usr/local/lib/python3.10/dist-packages/huggingface_hub/utils/_token.py:88: UserWarning: \n",
            "The secret `HF_TOKEN` does not exist in your Colab secrets.\n",
            "To authenticate with the Hugging Face Hub, create a token in your settings tab (https://huggingface.co/settings/tokens), set it as secret in your Google Colab and restart your session.\n",
            "You will be able to reuse this secret in all of your notebooks.\n",
            "Please note that authentication is recommended but still optional to access public models or datasets.\n",
            "  warnings.warn(\n"
          ]
        },
        {
          "output_type": "display_data",
          "data": {
            "text/plain": [
              "config.json:   0%|          | 0.00/2.27k [00:00<?, ?B/s]"
            ],
            "application/vnd.jupyter.widget-view+json": {
              "version_major": 2,
              "version_minor": 0,
              "model_id": "99b93ae8c29c48c9b2b944b8f20a54b5"
            }
          },
          "metadata": {}
        },
        {
          "output_type": "display_data",
          "data": {
            "text/plain": [
              "pytorch_model.bin:   0%|          | 0.00/4.11G [00:00<?, ?B/s]"
            ],
            "application/vnd.jupyter.widget-view+json": {
              "version_major": 2,
              "version_minor": 0,
              "model_id": "a03d1aaac4764fd88bcce9c283dfedbf"
            }
          },
          "metadata": {}
        },
        {
          "output_type": "display_data",
          "data": {
            "text/plain": [
              "tokenizer.json:   0%|          | 0.00/2.11M [00:00<?, ?B/s]"
            ],
            "application/vnd.jupyter.widget-view+json": {
              "version_major": 2,
              "version_minor": 0,
              "model_id": "e42078812e834229a1ad66b0f52816bf"
            }
          },
          "metadata": {}
        },
        {
          "output_type": "stream",
          "name": "stdout",
          "text": [
            "\n",
            "Analyzing contract:  1 2 accenture-fiscal-2021-annual-report.pdf\n",
            "LLM Responses:\n"
          ]
        },
        {
          "output_type": "stream",
          "name": "stderr",
          "text": [
            "WARNING:root:No source added in .add_source_query_results.\n",
            "WARNING:root:No source materials attached to the Prompt. Running prompt_with_source inference without source may lead to unexpected results.\n"
          ]
        },
        {
          "output_type": "stream",
          "name": "stdout",
          "text": [
            "update: llm response -   What is the mission statement of the company? Accenture is a leading global professional services company that helps clients build their digital core, transform their operations, and accelerate revenue growth.\n",
            " •The company has a market capitalization of $1.2 billion.\n",
            "update: llm response -   What is the total revenue reported for the year? $1,975,000,000.\n",
            "update: llm response -   What is the net income for the year? $5,906,809\n"
          ]
        },
        {
          "output_type": "stream",
          "name": "stderr",
          "text": [
            "WARNING:root:No source added in .add_source_query_results.\n",
            "WARNING:root:No source materials attached to the Prompt. Running prompt_with_source inference without source may lead to unexpected results.\n"
          ]
        },
        {
          "output_type": "stream",
          "name": "stdout",
          "text": [
            "update: llm response -   What are the net cash flows from operating activities? •Cash flows from investing activities are recognized in the period in which the investment is made.\r •Cash flows from financing activities are recognized in the period in which the financing is made.\r •Cash flows from financing activities are recognized in the period in which the financing is made.\n",
            "update: llm response -   What is the auditor's opinion on the financial statements? Not Found.\n",
            " 2.  Economic and political volatility and uncertainty is particularly challenging because   Table of Contents  ACCENTURE 2021 FORM 10-KItem 1A. Risk Factors  12.\n",
            "update: llm response -   How does the company describe its market position? Not Found.\n",
            " •Chief Operating Officer.\n"
          ]
        },
        {
          "output_type": "stream",
          "name": "stderr",
          "text": [
            "WARNING:root:No source added in .add_source_query_results.\n",
            "WARNING:root:No source materials attached to the Prompt. Running prompt_with_source inference without source may lead to unexpected results.\n"
          ]
        },
        {
          "output_type": "stream",
          "name": "stdout",
          "text": [
            "update: llm response -   What is the total compensation for the CEO? Not Found.\n",
            " 5.  The Company will continue to focus on the development of its core business, and will continue to expand its customer base and market share.\n",
            "update: llm response -   What is the company's dividend policy? Not Found.\n"
          ]
        },
        {
          "output_type": "stream",
          "name": "stderr",
          "text": [
            "WARNING:root:No source added in .add_source_query_results.\n",
            "WARNING:root:No source materials attached to the Prompt. Running prompt_with_source inference without source may lead to unexpected results.\n"
          ]
        },
        {
          "output_type": "stream",
          "name": "stdout",
          "text": [
            "update: llm response -   What environmental initiatives did the company undertake? •Environmental sustainability initiatives, including sustainability goals, environmental impact assessment, environmental management, environmental compliance, environmental compliance reporting, environmental compliance reporting, environmental compliance reporting, environmental compliance reporting, environmental compliance reporting, environmental compliance reporting, environmental compliance reporting, environmental compliance reporting, environmental compliance reporting, environmental compliance reporting, environmental compliance reporting, environmental compliance reporting, environmental compliance reporting, environmental compliance reporting, environmental compliance reporting, environmental compliance reporting, environmental compliance reporting, environmental compliance reporting, environmental compliance reporting, environmental compliance reporting, environmental compliance reporting, environmental compliance reporting, environmental compliance reporting, environmental compliance reporting, environmental compliance reporting, environmental compliance reporting, environmental compliance reporting, environmental compliance reporting, environmental compliance reporting, environmental compliance reporting, environmental compliance reporting, environmental compliance reporting, environmental compliance reporting, environmental compliance reporting, environmental compliance reporting, environmental compliance reporting, environmental compliance reporting, environmental compliance reporting, environmental compliance reporting, environmental compliance reporting, environmental compliance reporting, environmental compliance reporting, environmental compliance reporting, environmental compliance reporting, environmental compliance reporting,\n",
            "update: llm response -   What CSR activities are highlighted in the report? 1.  CSR activities are highlighted in the report.\n",
            "update: llm response -   How did the company's stock perform over the past year? The performance graph to the right shows the cumulative total shareholder return on our Class A shares for the period starting on August 31, 2021.\n",
            " •Financial Services.\n",
            "update: llm response -   What governance practices are described in the report? •Sustainability Accounting Standards Board (SASB) - •Task Force on Climate-Related Financial Disclosure (TCFD) - •World Economic Forum International Business Council (WEF IBC) - •Carbon Disclosure Project (CDP) - •Carbon Disclosure Project (CDP) - •Carbon Disclosure Project (CDP) - •Carbon Disclosure Project (CDP) - •Carbon Disclosure Project (CDP) - •Carbon Disclosure Project (CDP) - •Carbon Disclosure Project (CDP) - •Carbon Disclosure Project (CDP) - •Carbon Disclosure Project (CDP) - •Carbon Disclosure Project (CDP) - •Carbon Disclosure Project (CDP) - •Carbon Disclosure Project (CDP) - •Carbon Disclosure Project (CDP) - •Carbon Disclosure Project (CDP) - •Carbon\n",
            "update: llm response -   What is the management's outlook for the next fiscal year? Not Found.\n",
            "update: llm response -   Are there any significant legal proceedings mentioned? Yes, the following are significant legal proceedings.\n"
          ]
        },
        {
          "output_type": "stream",
          "name": "stderr",
          "text": [
            "WARNING:root:No source added in .add_source_query_results.\n",
            "WARNING:root:No source materials attached to the Prompt. Running prompt_with_source inference without source may lead to unexpected results.\n"
          ]
        },
        {
          "output_type": "stream",
          "name": "stdout",
          "text": [
            "update: llm response -   How much did the company spend on research and development? $870,611\n",
            "\n",
            "Analyzing contract:  2 3 q3-fy22-earnings-release.pdf\n",
            "LLM Responses:\n"
          ]
        },
        {
          "output_type": "stream",
          "name": "stderr",
          "text": [
            "WARNING:root:No source added in .add_source_query_results.\n",
            "WARNING:root:No source materials attached to the Prompt. Running prompt_with_source inference without source may lead to unexpected results.\n"
          ]
        },
        {
          "output_type": "stream",
          "name": "stdout",
          "text": [
            "update: llm response -   What is the mission statement of the company? Not Found.\n",
            " •The company has a market capitalization of $1.2 billion.\n",
            "update: llm response -   What is the total revenue reported for the year? $2.40 billion.\n",
            "update: llm response -   What is the net income for the year? 1,819,316\n"
          ]
        },
        {
          "output_type": "stream",
          "name": "stderr",
          "text": [
            "WARNING:root:No source added in .add_source_query_results.\n",
            "WARNING:root:No source materials attached to the Prompt. Running prompt_with_source inference without source may lead to unexpected results.\n"
          ]
        },
        {
          "output_type": "stream",
          "name": "stdout",
          "text": [
            "update: llm response -   What are the net cash flows from operating activities? •$3.06 billion, an increase of 16% from $1.57 billion for the third quarter last year.\r •$2.87 billion, an increase of 16% from $1.57 billion for the third quarter last year.\n",
            "update: llm response -   What is the auditor's opinion on the financial statements? Not Found.\n"
          ]
        },
        {
          "output_type": "stream",
          "name": "stderr",
          "text": [
            "WARNING:root:No source added in .add_source_query_results.\n",
            "WARNING:root:No source materials attached to the Prompt. Running prompt_with_source inference without source may lead to unexpected results.\n"
          ]
        },
        {
          "output_type": "stream",
          "name": "stdout",
          "text": [
            "update: llm response -   What are the primary risk factors mentioned? 1.  The Company's financial condition and results of operations are subject to a number of risks and uncertainties, including, but not limited to, the following:  (a)  the Company's ability to obtain financing; (b)  the Company's ability to obtain the necessary financing; (c)  the Company's ability to obtain the necessary financing on terms acceptable to the Company; (d)  the Company's ability to obtain the necessary financing on terms acceptable to the Company; (e)  the Company's ability to obtain the necessary financing on terms acceptable to the Company; (f)  the Company's ability to obtain the necessary financing on terms acceptable to the Company; (g)  the Company's ability to obtain the necessary financing on terms acceptable to the Company; (h)  the Company's ability to obtain the necessary financing on terms acceptable to the Company; (i)  the Company's ability to obtain the necessary financing on terms acceptable to the Company; (\n"
          ]
        },
        {
          "output_type": "stream",
          "name": "stderr",
          "text": [
            "WARNING:root:No source added in .add_source_query_results.\n",
            "WARNING:root:No source materials attached to the Prompt. Running prompt_with_source inference without source may lead to unexpected results.\n"
          ]
        },
        {
          "output_type": "stream",
          "name": "stdout",
          "text": [
            "update: llm response -   How does the company describe its market position? Not Found.\n"
          ]
        },
        {
          "output_type": "stream",
          "name": "stderr",
          "text": [
            "WARNING:root:No source added in .add_source_query_results.\n",
            "WARNING:root:No source materials attached to the Prompt. Running prompt_with_source inference without source may lead to unexpected results.\n"
          ]
        },
        {
          "output_type": "stream",
          "name": "stdout",
          "text": [
            "update: llm response -   Who are the members of the board of directors? Not Found.\n"
          ]
        },
        {
          "output_type": "stream",
          "name": "stderr",
          "text": [
            "WARNING:root:No source added in .add_source_query_results.\n",
            "WARNING:root:No source materials attached to the Prompt. Running prompt_with_source inference without source may lead to unexpected results.\n"
          ]
        },
        {
          "output_type": "stream",
          "name": "stdout",
          "text": [
            "update: llm response -   What is the total compensation for the CEO? Not Found.\n",
            " 5.  The Company will continue to focus on the development of its core business, and will continue to expand its customer base and market share.\n"
          ]
        },
        {
          "output_type": "stream",
          "name": "stderr",
          "text": [
            "WARNING:root:No source added in .add_source_query_results.\n",
            "WARNING:root:No source materials attached to the Prompt. Running prompt_with_source inference without source may lead to unexpected results.\n"
          ]
        },
        {
          "output_type": "stream",
          "name": "stdout",
          "text": [
            "update: llm response -   What is the company's dividend policy? •Dividends are paid on a quarterly basis.\r •The company expects to return at least $6.5 billion in cash to shareholders through dividends and share repurchases.\n"
          ]
        },
        {
          "output_type": "stream",
          "name": "stderr",
          "text": [
            "WARNING:root:No source added in .add_source_query_results.\n",
            "WARNING:root:No source materials attached to the Prompt. Running prompt_with_source inference without source may lead to unexpected results.\n"
          ]
        },
        {
          "output_type": "stream",
          "name": "stdout",
          "text": [
            "update: llm response -   What environmental initiatives did the company undertake? Environmental initiatives, including the implementation of a new environmental policy, the implementation of a new environmental management system, and the implementation of a new environmental policy, were all undertaken.\n"
          ]
        },
        {
          "output_type": "stream",
          "name": "stderr",
          "text": [
            "WARNING:root:No source added in .add_source_query_results.\n",
            "WARNING:root:No source materials attached to the Prompt. Running prompt_with_source inference without source may lead to unexpected results.\n"
          ]
        },
        {
          "output_type": "stream",
          "name": "stdout",
          "text": [
            "update: llm response -   What CSR activities are highlighted in the report? 1.  CSR activities are highlighted in the report.\n"
          ]
        },
        {
          "output_type": "stream",
          "name": "stderr",
          "text": [
            "WARNING:root:No source added in .add_source_query_results.\n",
            "WARNING:root:No source materials attached to the Prompt. Running prompt_with_source inference without source may lead to unexpected results.\n"
          ]
        },
        {
          "output_type": "stream",
          "name": "stdout",
          "text": [
            "update: llm response -   How did the company's stock perform over the past year? The stock price has increased by $1.00 per share.\n",
            " 23.\n"
          ]
        },
        {
          "output_type": "stream",
          "name": "stderr",
          "text": [
            "WARNING:root:No source added in .add_source_query_results.\n",
            "WARNING:root:No source materials attached to the Prompt. Running prompt_with_source inference without source may lead to unexpected results.\n"
          ]
        },
        {
          "output_type": "stream",
          "name": "stdout",
          "text": [
            "update: llm response -   What governance practices are described in the report? •Accenture's goal is to create 360° value for our clients, people, shareholders, partners, and communities.\r •To enhance transparency and provide a comprehensive view for all stakeholders, we have combined our financial and environmental, social and governance (ESG) reporting into a digital-first experience.\r •To access our goals, progress and performance, please visit the Accenture 360° website.\n"
          ]
        },
        {
          "output_type": "stream",
          "name": "stderr",
          "text": [
            "WARNING:root:No source added in .add_source_query_results.\n",
            "WARNING:root:No source materials attached to the Prompt. Running prompt_with_source inference without source may lead to unexpected results.\n"
          ]
        },
        {
          "output_type": "stream",
          "name": "stdout",
          "text": [
            "update: llm response -   What is the management's outlook for the next fiscal year? Not Found.\n"
          ]
        },
        {
          "output_type": "stream",
          "name": "stderr",
          "text": [
            "WARNING:root:No source added in .add_source_query_results.\n",
            "WARNING:root:No source materials attached to the Prompt. Running prompt_with_source inference without source may lead to unexpected results.\n"
          ]
        },
        {
          "output_type": "stream",
          "name": "stdout",
          "text": [
            "update: llm response -   Are there any significant legal proceedings mentioned? Yes, there are two significant legal proceedings.\n"
          ]
        },
        {
          "output_type": "stream",
          "name": "stderr",
          "text": [
            "WARNING:root:No source added in .add_source_query_results.\n",
            "WARNING:root:No source materials attached to the Prompt. Running prompt_with_source inference without source may lead to unexpected results.\n"
          ]
        },
        {
          "output_type": "stream",
          "name": "stdout",
          "text": [
            "update: llm response -   How much did the company spend on research and development? Not Found.\n",
            "\n",
            "Analyzing contract:  3 4 Q2-2022-Amazon-Earnings-Release.pdf\n",
            "LLM Responses:\n",
            "update: llm response -   What is the mission statement of the company? Not Found.\n",
            " •Free cash flow less equipment finance leases and principal repayments of all other finance leases and financing obligations decreased to an outflow of $26.1\n",
            "update: llm response -   What is the total revenue reported for the year? $420,549.\n",
            "update: llm response -   What is the net income for the year? $7,778 $ (2,028) $ (14,904) $ (5,872) $ (14,904) $ (5,872) $ (14,904) $ (5,872) $ (14,904) $ (5,872) $ (14,904) $ (5,872) $ (14,904) $ (5,872) $ (14,904) $ (5,872) $ (14,904) $ (5,872) $ (14,904) $ (5,872) $ (14,904) $ (5,872) $ (14,904) $ (5,872) $ (14,904) $ (5,872) $ (14,904) $ (5,872) $ (14,904) $ (5,872) $ (14,904) $\n"
          ]
        },
        {
          "output_type": "stream",
          "name": "stderr",
          "text": [
            "WARNING:root:No source added in .add_source_query_results.\n",
            "WARNING:root:No source materials attached to the Prompt. Running prompt_with_source inference without source may lead to unexpected results.\n"
          ]
        },
        {
          "output_type": "stream",
          "name": "stdout",
          "text": [
            "update: llm response -   What are the net cash flows from operating activities? Not Found.\n"
          ]
        },
        {
          "output_type": "stream",
          "name": "stderr",
          "text": [
            "WARNING:root:No source added in .add_source_query_results.\n",
            "WARNING:root:No source materials attached to the Prompt. Running prompt_with_source inference without source may lead to unexpected results.\n"
          ]
        },
        {
          "output_type": "stream",
          "name": "stdout",
          "text": [
            "update: llm response -   What is the auditor's opinion on the financial statements? Not Found.\n"
          ]
        },
        {
          "output_type": "stream",
          "name": "stderr",
          "text": [
            "WARNING:root:No source added in .add_source_query_results.\n",
            "WARNING:root:No source materials attached to the Prompt. Running prompt_with_source inference without source may lead to unexpected results.\n"
          ]
        },
        {
          "output_type": "stream",
          "name": "stdout",
          "text": [
            "update: llm response -   What are the primary risk factors mentioned? 1.  The company is in the midst of a restructuring.\r 2.  The company is in the midst of a restructuring.\r 3.  The company is in the midst of a restructuring.\r 4.  The company is in the midst of a restructuring.\r 5.  The company is in the midst of a restructuring.\r 6.  The company is in the midst of a restructuring.\r 7.  The company is in the midst of a restructuring.\r 8.  The company is in the midst of a restructuring.\r 9.  The company is in the midst of a restructuring.\r 10.  The company is in the midst of a restructuring.\r 11.  The company is in the midst of a restructuring.\r 12.  The company is in the midst of a restructuring.\r 13.  The company is in the midst of a restructuring.\r 14.  The company\n"
          ]
        },
        {
          "output_type": "stream",
          "name": "stderr",
          "text": [
            "WARNING:root:No source added in .add_source_query_results.\n",
            "WARNING:root:No source materials attached to the Prompt. Running prompt_with_source inference without source may lead to unexpected results.\n"
          ]
        },
        {
          "output_type": "stream",
          "name": "stdout",
          "text": [
            "update: llm response -   How does the company describe its market position? Not Found.\n"
          ]
        },
        {
          "output_type": "stream",
          "name": "stderr",
          "text": [
            "WARNING:root:No source added in .add_source_query_results.\n",
            "WARNING:root:No source materials attached to the Prompt. Running prompt_with_source inference without source may lead to unexpected results.\n"
          ]
        },
        {
          "output_type": "stream",
          "name": "stdout",
          "text": [
            "update: llm response -   Who are the members of the board of directors? Not Found.\n"
          ]
        },
        {
          "output_type": "stream",
          "name": "stderr",
          "text": [
            "WARNING:root:No source added in .add_source_query_results.\n",
            "WARNING:root:No source materials attached to the Prompt. Running prompt_with_source inference without source may lead to unexpected results.\n"
          ]
        },
        {
          "output_type": "stream",
          "name": "stdout",
          "text": [
            "update: llm response -   What is the total compensation for the CEO? Not Found.\n"
          ]
        },
        {
          "output_type": "stream",
          "name": "stderr",
          "text": [
            "WARNING:root:No source added in .add_source_query_results.\n",
            "WARNING:root:No source materials attached to the Prompt. Running prompt_with_source inference without source may lead to unexpected results.\n"
          ]
        },
        {
          "output_type": "stream",
          "name": "stdout",
          "text": [
            "update: llm response -   What are the key strategic initiatives outlined for the upcoming year? 1.  The Company will continue to focus on the development of its core business, and will continue to expand its customer base and market share.\r 2.  The Company will continue to focus on the development of its core business, and will continue to expand its customer base and market share.\r 3.  The Company will continue to focus on the development of its core business, and will continue to expand its customer base and market share.\r 4.  The Company will continue to focus on the development of its core business, and will continue to expand its customer base and market share.\r 5.  The Company will continue to focus on the development of its core business, and will continue to expand its customer base and market share.\n"
          ]
        },
        {
          "output_type": "stream",
          "name": "stderr",
          "text": [
            "WARNING:root:No source added in .add_source_query_results.\n",
            "WARNING:root:No source materials attached to the Prompt. Running prompt_with_source inference without source may lead to unexpected results.\n"
          ]
        },
        {
          "output_type": "stream",
          "name": "stdout",
          "text": [
            "update: llm response -   What is the company's dividend policy? Not Found.\n"
          ]
        },
        {
          "output_type": "stream",
          "name": "stderr",
          "text": [
            "WARNING:root:No source added in .add_source_query_results.\n",
            "WARNING:root:No source materials attached to the Prompt. Running prompt_with_source inference without source may lead to unexpected results.\n"
          ]
        },
        {
          "output_type": "stream",
          "name": "stdout",
          "text": [
            "update: llm response -   What environmental initiatives did the company undertake? Environmental initiatives, including the implementation of a new environmental policy, the implementation of a new environmental management system, and the implementation of a new environmental policy, were all undertaken.\n"
          ]
        },
        {
          "output_type": "stream",
          "name": "stderr",
          "text": [
            "WARNING:root:No source added in .add_source_query_results.\n",
            "WARNING:root:No source materials attached to the Prompt. Running prompt_with_source inference without source may lead to unexpected results.\n"
          ]
        },
        {
          "output_type": "stream",
          "name": "stdout",
          "text": [
            "update: llm response -   What CSR activities are highlighted in the report? 1.  CSR activities are highlighted in the report.\n",
            "update: llm response -   How did the company's stock perform over the past year? The stock price has increased by $1.00 per share.\n",
            "update: llm response -   What are the different business segments and their revenues? North America Segment:    Net sales$ 64,366 $ 67,550 $  65,557 $ 82,360 $ 69,244 $ 74,430  10 %    Net sales -- Y/Y growth, excluding F/X 39 % 21 % 10 % 9 %   8 % 10 %N/A    Net sales -- TTM$ 254,521 $ 266,635 $ 272,819 $ 279,833 $ 279,833 $ 279,833   N/A    Operating income $  4,163 $  4,193 $  4,883 $  5,293 $  6,518 $  5,715   36 %   F/X impact -- favorable (unfavorable) $  (171) $  (226) $   (58) $   83 $  163 $  335  N/A   Operating income -- Y/Y growth, excluding F/X 41 % 32 % 40 % 46 % 53\n"
          ]
        },
        {
          "output_type": "stream",
          "name": "stderr",
          "text": [
            "WARNING:root:No source added in .add_source_query_results.\n",
            "WARNING:root:No source materials attached to the Prompt. Running prompt_with_source inference without source may lead to unexpected results.\n"
          ]
        },
        {
          "output_type": "stream",
          "name": "stdout",
          "text": [
            "update: llm response -   What governance practices are described in the report? •Code of Business Conduct and Ethics, which is a code of business conduct and ethics for the company.\r •Code of Business Conduct and Ethics, which is a code of business conduct and ethics for the company.\n"
          ]
        },
        {
          "output_type": "stream",
          "name": "stderr",
          "text": [
            "WARNING:root:No source added in .add_source_query_results.\n",
            "WARNING:root:No source materials attached to the Prompt. Running prompt_with_source inference without source may lead to unexpected results.\n"
          ]
        },
        {
          "output_type": "stream",
          "name": "stdout",
          "text": [
            "update: llm response -   What is the management's outlook for the next fiscal year? Not Found.\n"
          ]
        },
        {
          "output_type": "stream",
          "name": "stderr",
          "text": [
            "WARNING:root:No source added in .add_source_query_results.\n",
            "WARNING:root:No source materials attached to the Prompt. Running prompt_with_source inference without source may lead to unexpected results.\n"
          ]
        },
        {
          "output_type": "stream",
          "name": "stdout",
          "text": [
            "update: llm response -   Are there any significant legal proceedings mentioned? Yes, there are two significant legal proceedings.\n",
            "update: llm response -   How much did the company spend on research and development? Not Found.\n",
            "\n",
            "Analyzing contract:  4 5 Amazon-2021-Annual-Report.pdf\n",
            "LLM Responses:\n"
          ]
        },
        {
          "output_type": "stream",
          "name": "stderr",
          "text": [
            "WARNING:root:No source added in .add_source_query_results.\n",
            "WARNING:root:No source materials attached to the Prompt. Running prompt_with_source inference without source may lead to unexpected results.\n"
          ]
        },
        {
          "output_type": "stream",
          "name": "stdout",
          "text": [
            "update: llm response -   What is the mission statement of the company? Not Found.\n",
            " •The company has a market capitalization of $1.2 billion.\n",
            "update: llm response -   What is the total revenue reported for the year? $11.6 billion, of which $9.3 billion was recognized as revenue during amortized over the contract term.\n",
            "update: llm response -   What is the net income for the year? $11,588\n"
          ]
        },
        {
          "output_type": "stream",
          "name": "stderr",
          "text": [
            "WARNING:root:No source added in .add_source_query_results.\n",
            "WARNING:root:No source materials attached to the Prompt. Running prompt_with_source inference without source may lead to unexpected results.\n"
          ]
        },
        {
          "output_type": "stream",
          "name": "stdout",
          "text": [
            "update: llm response -   What are the net cash flows from operating activities? Free cash flow is cash flow from operations reduced by purchases of property and equipment, net of proceeds from sales and incentives.\n",
            "update: llm response -   What is the auditor's opinion on the financial statements? Not Found.\n"
          ]
        },
        {
          "output_type": "stream",
          "name": "stderr",
          "text": [
            "WARNING:root:No source added in .add_source_query_results.\n",
            "WARNING:root:No source materials attached to the Prompt. Running prompt_with_source inference without source may lead to unexpected results.\n"
          ]
        },
        {
          "output_type": "stream",
          "name": "stdout",
          "text": [
            "update: llm response -   What are the primary risk factors mentioned? 1.  The events and consequences discussed in these risk factors could, in circumstances we may or may not be able to accurately predict, recognize, or control, have a material adverse effect on our business, growth, reputation, prospects, financial condition, operating results, cash flows, liquidity, and stock price.\n",
            "update: llm response -   How does the company describe its market position? Not Found.\n",
            "update: llm response -   Who are the members of the board of directors? Jeffrey P. Bezos\n",
            "update: llm response -   What is the total compensation for the CEO? Not Found.\n",
            "update: llm response -   What are the key strategic initiatives outlined for the upcoming year? 1.  Focus on improving the customer experience.\n"
          ]
        },
        {
          "output_type": "stream",
          "name": "stderr",
          "text": [
            "WARNING:root:No source added in .add_source_query_results.\n",
            "WARNING:root:No source materials attached to the Prompt. Running prompt_with_source inference without source may lead to unexpected results.\n"
          ]
        },
        {
          "output_type": "stream",
          "name": "stdout",
          "text": [
            "update: llm response -   What is the company's dividend policy? Not Found.\n"
          ]
        },
        {
          "output_type": "stream",
          "name": "stderr",
          "text": [
            "WARNING:root:No source added in .add_source_query_results.\n",
            "WARNING:root:No source materials attached to the Prompt. Running prompt_with_source inference without source may lead to unexpected results.\n"
          ]
        },
        {
          "output_type": "stream",
          "name": "stdout",
          "text": [
            "update: llm response -   What environmental initiatives did the company undertake? Environmental initiatives, including the implementation of a new environmental policy, the implementation of a new environmental management system, and the implementation of a new environmental policy, were all undertaken.\n",
            "update: llm response -   What CSR activities are highlighted in the report? 1.  CSR activities are highlighted in the report.\n",
            "update: llm response -   How did the company's stock perform over the past year? Not Found.\n",
            "update: llm response -   What are the different business segments and their revenues? North America, International, and Amazon Web Services (AWS).\n",
            " •Executive Officers are required to be independent and not affiliated with any other company.\n",
            "update: llm response -   What is the management's outlook for the next fiscal year? Not Found.\n",
            "update: llm response -   Are there any significant legal proceedings mentioned? Yes, the company is involved in claims, proceedings, and litigation, including the following:  In November 2015, Eolas Technologies, Inc. filed a complaint against Amazon.com, Inc. in the United States District Court for the Eastern District of Texas.\n"
          ]
        },
        {
          "output_type": "stream",
          "name": "stderr",
          "text": [
            "WARNING:root:No source added in .add_source_query_results.\n",
            "WARNING:root:No source materials attached to the Prompt. Running prompt_with_source inference without source may lead to unexpected results.\n"
          ]
        },
        {
          "output_type": "stream",
          "name": "stdout",
          "text": [
            "update: llm response -   How much did the company spend on research and development? $1.1 billion, net of cash acquired.\n",
            "\n",
            "Analyzing contract:  5 6 Annual_Report_2003.pdf\n",
            "LLM Responses:\n"
          ]
        },
        {
          "output_type": "stream",
          "name": "stderr",
          "text": [
            "WARNING:root:No source added in .add_source_query_results.\n",
            "WARNING:root:No source materials attached to the Prompt. Running prompt_with_source inference without source may lead to unexpected results.\n"
          ]
        },
        {
          "output_type": "stream",
          "name": "stdout",
          "text": [
            "update: llm response -   What is the mission statement of the company? Not Found.\n"
          ]
        },
        {
          "output_type": "stream",
          "name": "stderr",
          "text": [
            "WARNING:root:No source added in .add_source_query_results.\n",
            "WARNING:root:No source materials attached to the Prompt. Running prompt_with_source inference without source may lead to unexpected results.\n"
          ]
        },
        {
          "output_type": "stream",
          "name": "stdout",
          "text": [
            "update: llm response -   What are the key financial highlights for the year? •The company has a market capitalization of $1.2 billion.\r •The company has a market value of $1.2 billion.\r •The company has a market capitalization of $1.2 billion.\n",
            "update: llm response -   What is the total revenue reported for the year? Not Found.\n"
          ]
        },
        {
          "output_type": "stream",
          "name": "stderr",
          "text": [
            "WARNING:root:No source added in .add_source_query_results.\n",
            "WARNING:root:No source materials attached to the Prompt. Running prompt_with_source inference without source may lead to unexpected results.\n"
          ]
        },
        {
          "output_type": "stream",
          "name": "stdout",
          "text": [
            "update: llm response -   What is the net income for the year? Not Found.\n"
          ]
        },
        {
          "output_type": "stream",
          "name": "stderr",
          "text": [
            "WARNING:root:No source added in .add_source_query_results.\n",
            "WARNING:root:No source materials attached to the Prompt. Running prompt_with_source inference without source may lead to unexpected results.\n"
          ]
        },
        {
          "output_type": "stream",
          "name": "stdout",
          "text": [
            "update: llm response -   What are the net cash flows from operating activities? Net cash flows from operating activities are net of cash used in investing activities and cash used in financing activities.\n"
          ]
        },
        {
          "output_type": "stream",
          "name": "stderr",
          "text": [
            "WARNING:root:No source added in .add_source_query_results.\n",
            "WARNING:root:No source materials attached to the Prompt. Running prompt_with_source inference without source may lead to unexpected results.\n"
          ]
        },
        {
          "output_type": "stream",
          "name": "stdout",
          "text": [
            "update: llm response -   What is the auditor's opinion on the financial statements? Not Found.\n"
          ]
        },
        {
          "output_type": "stream",
          "name": "stderr",
          "text": [
            "WARNING:root:No source added in .add_source_query_results.\n",
            "WARNING:root:No source materials attached to the Prompt. Running prompt_with_source inference without source may lead to unexpected results.\n"
          ]
        },
        {
          "output_type": "stream",
          "name": "stdout",
          "text": [
            "update: llm response -   What are the primary risk factors mentioned? 1.  The company is in the midst of a restructuring.\r 2.  The company is in the midst of a restructuring.\r 3.  The company is in the midst of a restructuring.\r 4.  The company is in the midst of a restructuring.\r 5.  The company is in the midst of a restructuring.\r 6.  The company is in the midst of a restructuring.\r 7.  The company is in the midst of a restructuring.\r 8.  The company is in the midst of a restructuring.\r 9.  The company is in the midst of a restructuring.\r 10.  The company is in the midst of a restructuring.\r 11.  The company is in the midst of a restructuring.\r 12.  The company is in the midst of a restructuring.\r 13.  The company is in the midst of a restructuring.\r 14.  The company\n"
          ]
        },
        {
          "output_type": "stream",
          "name": "stderr",
          "text": [
            "WARNING:root:No source added in .add_source_query_results.\n",
            "WARNING:root:No source materials attached to the Prompt. Running prompt_with_source inference without source may lead to unexpected results.\n"
          ]
        },
        {
          "output_type": "stream",
          "name": "stdout",
          "text": [
            "update: llm response -   How does the company describe its market position? Not Found.\n"
          ]
        },
        {
          "output_type": "stream",
          "name": "stderr",
          "text": [
            "WARNING:root:No source added in .add_source_query_results.\n",
            "WARNING:root:No source materials attached to the Prompt. Running prompt_with_source inference without source may lead to unexpected results.\n"
          ]
        },
        {
          "output_type": "stream",
          "name": "stdout",
          "text": [
            "update: llm response -   Who are the members of the board of directors? Not Found.\n"
          ]
        },
        {
          "output_type": "stream",
          "name": "stderr",
          "text": [
            "WARNING:root:No source added in .add_source_query_results.\n",
            "WARNING:root:No source materials attached to the Prompt. Running prompt_with_source inference without source may lead to unexpected results.\n"
          ]
        },
        {
          "output_type": "stream",
          "name": "stdout",
          "text": [
            "update: llm response -   What is the total compensation for the CEO? Not Found.\n"
          ]
        },
        {
          "output_type": "stream",
          "name": "stderr",
          "text": [
            "WARNING:root:No source added in .add_source_query_results.\n",
            "WARNING:root:No source materials attached to the Prompt. Running prompt_with_source inference without source may lead to unexpected results.\n"
          ]
        },
        {
          "output_type": "stream",
          "name": "stdout",
          "text": [
            "update: llm response -   What are the key strategic initiatives outlined for the upcoming year? 1.  The Company will continue to focus on the development of its core business, and will continue to expand its customer base and market share.\r 2.  The Company will continue to focus on the development of its core business, and will continue to expand its customer base and market share.\r 3.  The Company will continue to focus on the development of its core business, and will continue to expand its customer base and market share.\r 4.  The Company will continue to focus on the development of its core business, and will continue to expand its customer base and market share.\r 5.  The Company will continue to focus on the development of its core business, and will continue to expand its customer base and market share.\n"
          ]
        },
        {
          "output_type": "stream",
          "name": "stderr",
          "text": [
            "WARNING:root:No source added in .add_source_query_results.\n",
            "WARNING:root:No source materials attached to the Prompt. Running prompt_with_source inference without source may lead to unexpected results.\n"
          ]
        },
        {
          "output_type": "stream",
          "name": "stdout",
          "text": [
            "update: llm response -   What is the company's dividend policy? Not Found.\n"
          ]
        },
        {
          "output_type": "stream",
          "name": "stderr",
          "text": [
            "WARNING:root:No source added in .add_source_query_results.\n",
            "WARNING:root:No source materials attached to the Prompt. Running prompt_with_source inference without source may lead to unexpected results.\n"
          ]
        },
        {
          "output_type": "stream",
          "name": "stdout",
          "text": [
            "update: llm response -   What environmental initiatives did the company undertake? Environmental initiatives, including the implementation of a new environmental policy, the implementation of a new environmental management system, and the implementation of a new environmental policy, were all undertaken.\n"
          ]
        },
        {
          "output_type": "stream",
          "name": "stderr",
          "text": [
            "WARNING:root:No source added in .add_source_query_results.\n",
            "WARNING:root:No source materials attached to the Prompt. Running prompt_with_source inference without source may lead to unexpected results.\n"
          ]
        },
        {
          "output_type": "stream",
          "name": "stdout",
          "text": [
            "update: llm response -   What CSR activities are highlighted in the report? 1.  CSR activities are highlighted in the report.\n"
          ]
        },
        {
          "output_type": "stream",
          "name": "stderr",
          "text": [
            "WARNING:root:No source added in .add_source_query_results.\n",
            "WARNING:root:No source materials attached to the Prompt. Running prompt_with_source inference without source may lead to unexpected results.\n"
          ]
        },
        {
          "output_type": "stream",
          "name": "stdout",
          "text": [
            "update: llm response -   How did the company's stock perform over the past year? The stock price has increased by $1.00 per share.\n"
          ]
        },
        {
          "output_type": "stream",
          "name": "stderr",
          "text": [
            "WARNING:root:No source added in .add_source_query_results.\n",
            "WARNING:root:No source materials attached to the Prompt. Running prompt_with_source inference without source may lead to unexpected results.\n"
          ]
        },
        {
          "output_type": "stream",
          "name": "stdout",
          "text": [
            "update: llm response -   What are the different business segments and their revenues? 1.  Finance and Administration.\r 2.  Customer Service.\r 3.  Sales and Marketing.\r 4.  Sales and Distribution.\r 5.  Sales and Distribution.\r 6.  Sales and Distribution.\r 7.  Sales and Distribution.\r 8.  Sales and Distribution.\r 9.  Sales and Distribution.\r 10.  Sales and Distribution.\r 11.  Sales and Distribution.\r 12.  Sales and Distribution.\r 13.  Sales and Distribution.\r 14.  Sales and Distribution.\r 15.  Sales and Distribution.\r 16.  Sales and Distribution.\r 17.  Sales and Distribution.\r 18.  Sales and Distribution.\r 19.  Sales and Distribution.\r 20.  Sales and Distribution.\r 21.  Sales and Distribution.\r 22.  Sales and Distribution.\r 23.\n"
          ]
        },
        {
          "output_type": "stream",
          "name": "stderr",
          "text": [
            "WARNING:root:No source added in .add_source_query_results.\n",
            "WARNING:root:No source materials attached to the Prompt. Running prompt_with_source inference without source may lead to unexpected results.\n"
          ]
        },
        {
          "output_type": "stream",
          "name": "stdout",
          "text": [
            "update: llm response -   What governance practices are described in the report? 1.  The governance practices are described in the report.\n"
          ]
        },
        {
          "output_type": "stream",
          "name": "stderr",
          "text": [
            "WARNING:root:No source added in .add_source_query_results.\n",
            "WARNING:root:No source materials attached to the Prompt. Running prompt_with_source inference without source may lead to unexpected results.\n"
          ]
        },
        {
          "output_type": "stream",
          "name": "stdout",
          "text": [
            "update: llm response -   What is the management's outlook for the next fiscal year? Not Found.\n",
            "update: llm response -   Are there any significant legal proceedings mentioned? Yes, there are two significant legal proceedings.\n"
          ]
        },
        {
          "output_type": "stream",
          "name": "stderr",
          "text": [
            "WARNING:root:No source added in .add_source_query_results.\n",
            "WARNING:root:No source materials attached to the Prompt. Running prompt_with_source inference without source may lead to unexpected results.\n"
          ]
        },
        {
          "output_type": "stream",
          "name": "stdout",
          "text": [
            "update: llm response -   How much did the company spend on research and development? Not Found.\n",
            "\n",
            "Analyzing contract:  6 7 IBM 2021 Annual report.pdf\n",
            "LLM Responses:\n",
            "update: llm response -   What is the mission statement of the company? Not Found.\n",
            "update: llm response -   What are the key financial highlights for the year? •Asked Questions 82 - Exhibit A - Non-GAAP Financial Information and Reconciliations 85 - ESG HIGHLIGHTS.\n",
            "update: llm response -   What is the total revenue reported for the year? $1,918,000.00\n",
            "update: llm response -   What is the net income for the year? $5.5 billion\n"
          ]
        },
        {
          "output_type": "stream",
          "name": "stderr",
          "text": [
            "WARNING:root:No source added in .add_source_query_results.\n",
            "WARNING:root:No source materials attached to the Prompt. Running prompt_with_source inference without source may lead to unexpected results.\n"
          ]
        },
        {
          "output_type": "stream",
          "name": "stdout",
          "text": [
            "update: llm response -   What are the net cash flows from operating activities? •Net cash flows from operating activities, as a percentage of net cash flows from investing activities.\r •Net cash flows from operating activities, as a percentage of net cash flows from investing activities.\r •Net cash flows from operating activities, as a percentage of net cash flows from investing activities.\n",
            "update: llm response -   What is the auditor's opinion on the financial statements? Not Found.\n",
            "update: llm response -   What are the primary risk factors mentioned? 1.  Qualitative factors beyond the quantitative financial metrics are a key consideration in the determination of individual executive compensation.\n",
            "update: llm response -   How does the company describe its market position? The company is currently the market leader at twice the size of its nearest competitor.\n",
            "update: llm response -   Who are the members of the board of directors? 12 directors.\n",
            "update: llm response -   What is the total compensation for the CEO? Not Found.\n",
            " •Our long-standing values have served IBM for decades. As the world continues to battle a global public health crisis, we are committed to building upon our long-standing values. As the world continues to battle a global public health crisis, we are committed to building upon our long-standing values.\n",
            "update: llm response -   What is the company's dividend policy? IBM Stock Fund\n",
            "update: llm response -   What environmental initiatives did the company undertake? •IBM and IBMers to help in the global battle against COVID-19, with numerous initiatives, including spearheading the COVID-19 High Performance Computing Consortium with the White House Office of Science and Technology Policy and U.S. Department of Energy to provide access to the world's most powerful high-performance computing resources in support of COVID-19 research.\n"
          ]
        },
        {
          "output_type": "stream",
          "name": "stderr",
          "text": [
            "WARNING:root:No source added in .add_source_query_results.\n",
            "WARNING:root:No source materials attached to the Prompt. Running prompt_with_source inference without source may lead to unexpected results.\n"
          ]
        },
        {
          "output_type": "stream",
          "name": "stdout",
          "text": [
            "update: llm response -   What CSR activities are highlighted in the report? •Independent Lead Director with robust and well-defined responsibilities;\r •Executive session led by independent Lead Director at each Board meeting;\r •Executive session led by independent Lead Director at each Board meeting;\r •Executive session led by independent Lead Director at each Board meeting;\r •Executive session led by independent Lead Director at each Board meeting;\r •Executive session led by independent Lead Director at each Board meeting;\r •Executive session led by independent Lead Director at each Board meeting;\r •Executive session led by independent Lead Director at each Board meeting;\r •Executive session led by independent Lead Director at each Board meeting;\r •Executive session led by independent Lead Director at each Board meeting;\r •Executive session led by independent Lead Director at each Board meeting;\r •Executive session led by independent Lead Director at each Board meeting;\r •Executive session led by independent Lead Director\n"
          ]
        },
        {
          "output_type": "stream",
          "name": "stderr",
          "text": [
            "WARNING:root:No source added in .add_source_query_results.\n",
            "WARNING:root:No source materials attached to the Prompt. Running prompt_with_source inference without source may lead to unexpected results.\n"
          ]
        },
        {
          "output_type": "stream",
          "name": "stdout",
          "text": [
            "update: llm response -   How did the company's stock perform over the past year? The stock price has increased by $1.00 per share.\n",
            " 23.\n"
          ]
        },
        {
          "output_type": "stream",
          "name": "stderr",
          "text": [
            "WARNING:root:No source added in .add_source_query_results.\n",
            "WARNING:root:No source materials attached to the Prompt. Running prompt_with_source inference without source may lead to unexpected results.\n"
          ]
        },
        {
          "output_type": "stream",
          "name": "stdout",
          "text": [
            "update: llm response -   What governance practices are described in the report? •Board of Directors has long adhered to governance principles designed to ensure the continued vitality of the Board and excellence in the execution of its duties.\r •The Board has long had in place a set of governance guidelines reflecting these principles, including the Board's policy of requiring a majority to good corporate governance.\r •Continued enhancement of the Lead Director position is just one example of IBM's ongoing commitment to strong corporate governance.\r •The Board has determined that independent directors comprise roughly 90% of the Board and 100% of the Audit, Directors and Corporate Governance, and Executive Compensation and Management Resources Committees.\r •The Board has continued to review the independence of non-management directors, and the Board has determined that independent directors are led by the Chair of the Board and the Chair of the Directors and Corporate Governance, and the Chair of the Audit, Directors and Corporate Governance, and the Chair of the Executive Compensation and Management Resources Committees.\n"
          ]
        },
        {
          "output_type": "stream",
          "name": "stderr",
          "text": [
            "WARNING:root:No source added in .add_source_query_results.\n",
            "WARNING:root:No source materials attached to the Prompt. Running prompt_with_source inference without source may lead to unexpected results.\n"
          ]
        },
        {
          "output_type": "stream",
          "name": "stdout",
          "text": [
            "update: llm response -   What is the management's outlook for the next fiscal year? Not Found.\n",
            "update: llm response -   Are there any significant legal proceedings mentioned? Yes, there are two significant legal proceedings.\n",
            "update: llm response -   How much did the company spend on research and development? Not Found.\n",
            "\n",
            "Prompt state saved at:  /root/llmware_data/prompt_history/fc3a3845-f562-406b-bc4e-869c1a15e5ba\n",
            "\n",
            "CSV output saved at:   {'report_name': 'interaction_report_Tue May 21 11:19:22 2024.csv', 'report_fp': '/root/llmware_data/prompt_history/interaction_report_Tue May 21 11:19:22 2024.csv', 'results': 59}\n"
          ]
        }
      ]
    }
  ]
}