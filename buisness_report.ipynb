{
  "nbformat": 4,
  "nbformat_minor": 0,
  "metadata": {
    "colab": {
      "provenance": [],
      "authorship_tag": "ABX9TyNCW/XWlguGCrlHs9PQ+orj",
      "include_colab_link": true
    },
    "kernelspec": {
      "name": "python3",
      "display_name": "Python 3"
    },
    "language_info": {
      "name": "python"
    }
  },
  "cells": [
    {
      "cell_type": "markdown",
      "metadata": {
        "id": "view-in-github",
        "colab_type": "text"
      },
      "source": [
        "<a href=\"https://colab.research.google.com/github/SUPERREALCODER/buisness_report_rag/blob/main/buisness_report.ipynb\" target=\"_parent\"><img src=\"https://colab.research.google.com/assets/colab-badge.svg\" alt=\"Open In Colab\"/></a>"
      ]
    },
    {
      "cell_type": "code",
      "execution_count": null,
      "metadata": {
        "colab": {
          "base_uri": "https://localhost:8080/"
        },
        "id": "liIz2Yv9gXA4",
        "outputId": "870a6bb0-3e94-4f6a-8a56-494116dde85b"
      },
      "outputs": [
        {
          "output_type": "stream",
          "name": "stdout",
          "text": [
            "Collecting llmware\n",
            "  Downloading llmware-0.2.14-py3-none-any.whl (56.0 MB)\n",
            "\u001b[2K     \u001b[90m━━━━━━━━━━━━━━━━━━━━━━━━━━━━━━━━━━━━━━━━\u001b[0m \u001b[32m56.0/56.0 MB\u001b[0m \u001b[31m16.7 MB/s\u001b[0m eta \u001b[36m0:00:00\u001b[0m\n",
            "\u001b[?25hCollecting boto3==1.24.53 (from llmware)\n",
            "  Downloading boto3-1.24.53-py3-none-any.whl (132 kB)\n",
            "\u001b[2K     \u001b[90m━━━━━━━━━━━━━━━━━━━━━━━━━━━━━━━━━━━━━━━━\u001b[0m \u001b[32m132.5/132.5 kB\u001b[0m \u001b[31m16.8 MB/s\u001b[0m eta \u001b[36m0:00:00\u001b[0m\n",
            "\u001b[?25hRequirement already satisfied: huggingface-hub>=0.19.4 in /usr/local/lib/python3.10/dist-packages (from llmware) (0.20.3)\n",
            "Requirement already satisfied: numpy>=1.23.2 in /usr/local/lib/python3.10/dist-packages (from llmware) (1.25.2)\n",
            "Collecting openai>=1.0.0 (from llmware)\n",
            "  Downloading openai-1.30.1-py3-none-any.whl (320 kB)\n",
            "\u001b[2K     \u001b[90m━━━━━━━━━━━━━━━━━━━━━━━━━━━━━━━━━━━━━━━━\u001b[0m \u001b[32m320.6/320.6 kB\u001b[0m \u001b[31m27.3 MB/s\u001b[0m eta \u001b[36m0:00:00\u001b[0m\n",
            "\u001b[?25hCollecting pymongo>=4.7.0 (from llmware)\n",
            "  Downloading pymongo-4.7.2-cp310-cp310-manylinux_2_17_x86_64.manylinux2014_x86_64.whl (670 kB)\n",
            "\u001b[2K     \u001b[90m━━━━━━━━━━━━━━━━━━━━━━━━━━━━━━━━━━━━━━━━\u001b[0m \u001b[32m670.0/670.0 kB\u001b[0m \u001b[31m35.2 MB/s\u001b[0m eta \u001b[36m0:00:00\u001b[0m\n",
            "\u001b[?25hRequirement already satisfied: tokenizers>=0.15.0 in /usr/local/lib/python3.10/dist-packages (from llmware) (0.19.1)\n",
            "Requirement already satisfied: torch>=1.13.1 in /usr/local/lib/python3.10/dist-packages (from llmware) (2.2.1+cu121)\n",
            "Requirement already satisfied: transformers>=4.36.0 in /usr/local/lib/python3.10/dist-packages (from llmware) (4.40.2)\n",
            "Collecting Wikipedia-API==0.6.0 (from llmware)\n",
            "  Downloading Wikipedia_API-0.6.0-py3-none-any.whl (14 kB)\n",
            "Collecting psycopg-binary==3.1.17 (from llmware)\n",
            "  Downloading psycopg_binary-3.1.17-cp310-cp310-manylinux_2_17_x86_64.manylinux2014_x86_64.whl (3.3 MB)\n",
            "\u001b[2K     \u001b[90m━━━━━━━━━━━━━━━━━━━━━━━━━━━━━━━━━━━━━━━━\u001b[0m \u001b[32m3.3/3.3 MB\u001b[0m \u001b[31m54.3 MB/s\u001b[0m eta \u001b[36m0:00:00\u001b[0m\n",
            "\u001b[?25hCollecting psycopg==3.1.17 (from llmware)\n",
            "  Downloading psycopg-3.1.17-py3-none-any.whl (178 kB)\n",
            "\u001b[2K     \u001b[90m━━━━━━━━━━━━━━━━━━━━━━━━━━━━━━━━━━━━━━━━\u001b[0m \u001b[32m178.0/178.0 kB\u001b[0m \u001b[31m18.1 MB/s\u001b[0m eta \u001b[36m0:00:00\u001b[0m\n",
            "\u001b[?25hCollecting pgvector==0.2.4 (from llmware)\n",
            "  Downloading pgvector-0.2.4-py2.py3-none-any.whl (9.6 kB)\n",
            "Collecting colorama==0.4.6 (from llmware)\n",
            "  Downloading colorama-0.4.6-py2.py3-none-any.whl (25 kB)\n",
            "Collecting einops==0.7.0 (from llmware)\n",
            "  Downloading einops-0.7.0-py3-none-any.whl (44 kB)\n",
            "\u001b[2K     \u001b[90m━━━━━━━━━━━━━━━━━━━━━━━━━━━━━━━━━━━━━━━━\u001b[0m \u001b[32m44.6/44.6 kB\u001b[0m \u001b[31m6.0 MB/s\u001b[0m eta \u001b[36m0:00:00\u001b[0m\n",
            "\u001b[?25hRequirement already satisfied: librosa>=0.10.0 in /usr/local/lib/python3.10/dist-packages (from llmware) (0.10.2.post1)\n",
            "Collecting botocore<1.28.0,>=1.27.53 (from boto3==1.24.53->llmware)\n",
            "  Downloading botocore-1.27.96-py3-none-any.whl (9.3 MB)\n",
            "\u001b[2K     \u001b[90m━━━━━━━━━━━━━━━━━━━━━━━━━━━━━━━━━━━━━━━━\u001b[0m \u001b[32m9.3/9.3 MB\u001b[0m \u001b[31m80.7 MB/s\u001b[0m eta \u001b[36m0:00:00\u001b[0m\n",
            "\u001b[?25hCollecting jmespath<2.0.0,>=0.7.1 (from boto3==1.24.53->llmware)\n",
            "  Downloading jmespath-1.0.1-py3-none-any.whl (20 kB)\n",
            "Collecting s3transfer<0.7.0,>=0.6.0 (from boto3==1.24.53->llmware)\n",
            "  Downloading s3transfer-0.6.2-py3-none-any.whl (79 kB)\n",
            "\u001b[2K     \u001b[90m━━━━━━━━━━━━━━━━━━━━━━━━━━━━━━━━━━━━━━━━\u001b[0m \u001b[32m79.8/79.8 kB\u001b[0m \u001b[31m9.4 MB/s\u001b[0m eta \u001b[36m0:00:00\u001b[0m\n",
            "\u001b[?25hRequirement already satisfied: typing-extensions>=4.1 in /usr/local/lib/python3.10/dist-packages (from psycopg==3.1.17->llmware) (4.11.0)\n",
            "Requirement already satisfied: requests in /usr/local/lib/python3.10/dist-packages (from Wikipedia-API==0.6.0->llmware) (2.31.0)\n",
            "Requirement already satisfied: filelock in /usr/local/lib/python3.10/dist-packages (from huggingface-hub>=0.19.4->llmware) (3.14.0)\n",
            "Requirement already satisfied: fsspec>=2023.5.0 in /usr/local/lib/python3.10/dist-packages (from huggingface-hub>=0.19.4->llmware) (2023.6.0)\n",
            "Requirement already satisfied: tqdm>=4.42.1 in /usr/local/lib/python3.10/dist-packages (from huggingface-hub>=0.19.4->llmware) (4.66.4)\n",
            "Requirement already satisfied: pyyaml>=5.1 in /usr/local/lib/python3.10/dist-packages (from huggingface-hub>=0.19.4->llmware) (6.0.1)\n",
            "Requirement already satisfied: packaging>=20.9 in /usr/local/lib/python3.10/dist-packages (from huggingface-hub>=0.19.4->llmware) (24.0)\n",
            "Requirement already satisfied: audioread>=2.1.9 in /usr/local/lib/python3.10/dist-packages (from librosa>=0.10.0->llmware) (3.0.1)\n",
            "Requirement already satisfied: scipy>=1.2.0 in /usr/local/lib/python3.10/dist-packages (from librosa>=0.10.0->llmware) (1.11.4)\n",
            "Requirement already satisfied: scikit-learn>=0.20.0 in /usr/local/lib/python3.10/dist-packages (from librosa>=0.10.0->llmware) (1.2.2)\n",
            "Requirement already satisfied: joblib>=0.14 in /usr/local/lib/python3.10/dist-packages (from librosa>=0.10.0->llmware) (1.4.2)\n",
            "Requirement already satisfied: decorator>=4.3.0 in /usr/local/lib/python3.10/dist-packages (from librosa>=0.10.0->llmware) (4.4.2)\n",
            "Requirement already satisfied: numba>=0.51.0 in /usr/local/lib/python3.10/dist-packages (from librosa>=0.10.0->llmware) (0.58.1)\n",
            "Requirement already satisfied: soundfile>=0.12.1 in /usr/local/lib/python3.10/dist-packages (from librosa>=0.10.0->llmware) (0.12.1)\n",
            "Requirement already satisfied: pooch>=1.1 in /usr/local/lib/python3.10/dist-packages (from librosa>=0.10.0->llmware) (1.8.1)\n",
            "Requirement already satisfied: soxr>=0.3.2 in /usr/local/lib/python3.10/dist-packages (from librosa>=0.10.0->llmware) (0.3.7)\n",
            "Requirement already satisfied: lazy-loader>=0.1 in /usr/local/lib/python3.10/dist-packages (from librosa>=0.10.0->llmware) (0.4)\n",
            "Requirement already satisfied: msgpack>=1.0 in /usr/local/lib/python3.10/dist-packages (from librosa>=0.10.0->llmware) (1.0.8)\n",
            "Requirement already satisfied: anyio<5,>=3.5.0 in /usr/local/lib/python3.10/dist-packages (from openai>=1.0.0->llmware) (3.7.1)\n",
            "Requirement already satisfied: distro<2,>=1.7.0 in /usr/lib/python3/dist-packages (from openai>=1.0.0->llmware) (1.7.0)\n",
            "Collecting httpx<1,>=0.23.0 (from openai>=1.0.0->llmware)\n",
            "  Downloading httpx-0.27.0-py3-none-any.whl (75 kB)\n",
            "\u001b[2K     \u001b[90m━━━━━━━━━━━━━━━━━━━━━━━━━━━━━━━━━━━━━━━━\u001b[0m \u001b[32m75.6/75.6 kB\u001b[0m \u001b[31m8.9 MB/s\u001b[0m eta \u001b[36m0:00:00\u001b[0m\n",
            "\u001b[?25hRequirement already satisfied: pydantic<3,>=1.9.0 in /usr/local/lib/python3.10/dist-packages (from openai>=1.0.0->llmware) (2.7.1)\n",
            "Requirement already satisfied: sniffio in /usr/local/lib/python3.10/dist-packages (from openai>=1.0.0->llmware) (1.3.1)\n",
            "Collecting dnspython<3.0.0,>=1.16.0 (from pymongo>=4.7.0->llmware)\n",
            "  Downloading dnspython-2.6.1-py3-none-any.whl (307 kB)\n",
            "\u001b[2K     \u001b[90m━━━━━━━━━━━━━━━━━━━━━━━━━━━━━━━━━━━━━━━━\u001b[0m \u001b[32m307.7/307.7 kB\u001b[0m \u001b[31m31.8 MB/s\u001b[0m eta \u001b[36m0:00:00\u001b[0m\n",
            "\u001b[?25hRequirement already satisfied: sympy in /usr/local/lib/python3.10/dist-packages (from torch>=1.13.1->llmware) (1.12)\n",
            "Requirement already satisfied: networkx in /usr/local/lib/python3.10/dist-packages (from torch>=1.13.1->llmware) (3.3)\n",
            "Requirement already satisfied: jinja2 in /usr/local/lib/python3.10/dist-packages (from torch>=1.13.1->llmware) (3.1.4)\n",
            "Collecting nvidia-cuda-nvrtc-cu12==12.1.105 (from torch>=1.13.1->llmware)\n",
            "  Using cached nvidia_cuda_nvrtc_cu12-12.1.105-py3-none-manylinux1_x86_64.whl (23.7 MB)\n",
            "Collecting nvidia-cuda-runtime-cu12==12.1.105 (from torch>=1.13.1->llmware)\n",
            "  Using cached nvidia_cuda_runtime_cu12-12.1.105-py3-none-manylinux1_x86_64.whl (823 kB)\n",
            "Collecting nvidia-cuda-cupti-cu12==12.1.105 (from torch>=1.13.1->llmware)\n",
            "  Using cached nvidia_cuda_cupti_cu12-12.1.105-py3-none-manylinux1_x86_64.whl (14.1 MB)\n",
            "Collecting nvidia-cudnn-cu12==8.9.2.26 (from torch>=1.13.1->llmware)\n",
            "  Using cached nvidia_cudnn_cu12-8.9.2.26-py3-none-manylinux1_x86_64.whl (731.7 MB)\n",
            "Collecting nvidia-cublas-cu12==12.1.3.1 (from torch>=1.13.1->llmware)\n",
            "  Using cached nvidia_cublas_cu12-12.1.3.1-py3-none-manylinux1_x86_64.whl (410.6 MB)\n",
            "Collecting nvidia-cufft-cu12==11.0.2.54 (from torch>=1.13.1->llmware)\n",
            "  Using cached nvidia_cufft_cu12-11.0.2.54-py3-none-manylinux1_x86_64.whl (121.6 MB)\n",
            "Collecting nvidia-curand-cu12==10.3.2.106 (from torch>=1.13.1->llmware)\n",
            "  Using cached nvidia_curand_cu12-10.3.2.106-py3-none-manylinux1_x86_64.whl (56.5 MB)\n",
            "Collecting nvidia-cusolver-cu12==11.4.5.107 (from torch>=1.13.1->llmware)\n",
            "  Using cached nvidia_cusolver_cu12-11.4.5.107-py3-none-manylinux1_x86_64.whl (124.2 MB)\n",
            "Collecting nvidia-cusparse-cu12==12.1.0.106 (from torch>=1.13.1->llmware)\n",
            "  Using cached nvidia_cusparse_cu12-12.1.0.106-py3-none-manylinux1_x86_64.whl (196.0 MB)\n",
            "Collecting nvidia-nccl-cu12==2.19.3 (from torch>=1.13.1->llmware)\n",
            "  Using cached nvidia_nccl_cu12-2.19.3-py3-none-manylinux1_x86_64.whl (166.0 MB)\n",
            "Collecting nvidia-nvtx-cu12==12.1.105 (from torch>=1.13.1->llmware)\n",
            "  Using cached nvidia_nvtx_cu12-12.1.105-py3-none-manylinux1_x86_64.whl (99 kB)\n",
            "Requirement already satisfied: triton==2.2.0 in /usr/local/lib/python3.10/dist-packages (from torch>=1.13.1->llmware) (2.2.0)\n",
            "Collecting nvidia-nvjitlink-cu12 (from nvidia-cusolver-cu12==11.4.5.107->torch>=1.13.1->llmware)\n",
            "  Using cached nvidia_nvjitlink_cu12-12.4.127-py3-none-manylinux2014_x86_64.whl (21.1 MB)\n",
            "Requirement already satisfied: regex!=2019.12.17 in /usr/local/lib/python3.10/dist-packages (from transformers>=4.36.0->llmware) (2023.12.25)\n",
            "Requirement already satisfied: safetensors>=0.4.1 in /usr/local/lib/python3.10/dist-packages (from transformers>=4.36.0->llmware) (0.4.3)\n",
            "Requirement already satisfied: idna>=2.8 in /usr/local/lib/python3.10/dist-packages (from anyio<5,>=3.5.0->openai>=1.0.0->llmware) (3.7)\n",
            "Requirement already satisfied: exceptiongroup in /usr/local/lib/python3.10/dist-packages (from anyio<5,>=3.5.0->openai>=1.0.0->llmware) (1.2.1)\n",
            "Requirement already satisfied: python-dateutil<3.0.0,>=2.1 in /usr/local/lib/python3.10/dist-packages (from botocore<1.28.0,>=1.27.53->boto3==1.24.53->llmware) (2.8.2)\n",
            "Collecting urllib3<1.27,>=1.25.4 (from botocore<1.28.0,>=1.27.53->boto3==1.24.53->llmware)\n",
            "  Downloading urllib3-1.26.18-py2.py3-none-any.whl (143 kB)\n",
            "\u001b[2K     \u001b[90m━━━━━━━━━━━━━━━━━━━━━━━━━━━━━━━━━━━━━━━━\u001b[0m \u001b[32m143.8/143.8 kB\u001b[0m \u001b[31m17.2 MB/s\u001b[0m eta \u001b[36m0:00:00\u001b[0m\n",
            "\u001b[?25hRequirement already satisfied: certifi in /usr/local/lib/python3.10/dist-packages (from httpx<1,>=0.23.0->openai>=1.0.0->llmware) (2024.2.2)\n",
            "Collecting httpcore==1.* (from httpx<1,>=0.23.0->openai>=1.0.0->llmware)\n",
            "  Downloading httpcore-1.0.5-py3-none-any.whl (77 kB)\n",
            "\u001b[2K     \u001b[90m━━━━━━━━━━━━━━━━━━━━━━━━━━━━━━━━━━━━━━━━\u001b[0m \u001b[32m77.9/77.9 kB\u001b[0m \u001b[31m10.1 MB/s\u001b[0m eta \u001b[36m0:00:00\u001b[0m\n",
            "\u001b[?25hCollecting h11<0.15,>=0.13 (from httpcore==1.*->httpx<1,>=0.23.0->openai>=1.0.0->llmware)\n",
            "  Downloading h11-0.14.0-py3-none-any.whl (58 kB)\n",
            "\u001b[2K     \u001b[90m━━━━━━━━━━━━━━━━━━━━━━━━━━━━━━━━━━━━━━━━\u001b[0m \u001b[32m58.3/58.3 kB\u001b[0m \u001b[31m7.1 MB/s\u001b[0m eta \u001b[36m0:00:00\u001b[0m\n",
            "\u001b[?25hRequirement already satisfied: llvmlite<0.42,>=0.41.0dev0 in /usr/local/lib/python3.10/dist-packages (from numba>=0.51.0->librosa>=0.10.0->llmware) (0.41.1)\n",
            "Requirement already satisfied: platformdirs>=2.5.0 in /usr/local/lib/python3.10/dist-packages (from pooch>=1.1->librosa>=0.10.0->llmware) (4.2.1)\n",
            "Requirement already satisfied: annotated-types>=0.4.0 in /usr/local/lib/python3.10/dist-packages (from pydantic<3,>=1.9.0->openai>=1.0.0->llmware) (0.6.0)\n",
            "Requirement already satisfied: pydantic-core==2.18.2 in /usr/local/lib/python3.10/dist-packages (from pydantic<3,>=1.9.0->openai>=1.0.0->llmware) (2.18.2)\n",
            "Requirement already satisfied: charset-normalizer<4,>=2 in /usr/local/lib/python3.10/dist-packages (from requests->Wikipedia-API==0.6.0->llmware) (3.3.2)\n",
            "Requirement already satisfied: threadpoolctl>=2.0.0 in /usr/local/lib/python3.10/dist-packages (from scikit-learn>=0.20.0->librosa>=0.10.0->llmware) (3.5.0)\n",
            "Requirement already satisfied: cffi>=1.0 in /usr/local/lib/python3.10/dist-packages (from soundfile>=0.12.1->librosa>=0.10.0->llmware) (1.16.0)\n",
            "Requirement already satisfied: MarkupSafe>=2.0 in /usr/local/lib/python3.10/dist-packages (from jinja2->torch>=1.13.1->llmware) (2.1.5)\n",
            "Requirement already satisfied: mpmath>=0.19 in /usr/local/lib/python3.10/dist-packages (from sympy->torch>=1.13.1->llmware) (1.3.0)\n",
            "Requirement already satisfied: pycparser in /usr/local/lib/python3.10/dist-packages (from cffi>=1.0->soundfile>=0.12.1->librosa>=0.10.0->llmware) (2.22)\n",
            "Requirement already satisfied: six>=1.5 in /usr/local/lib/python3.10/dist-packages (from python-dateutil<3.0.0,>=2.1->botocore<1.28.0,>=1.27.53->boto3==1.24.53->llmware) (1.16.0)\n",
            "Installing collected packages: urllib3, psycopg-binary, psycopg, pgvector, nvidia-nvtx-cu12, nvidia-nvjitlink-cu12, nvidia-nccl-cu12, nvidia-curand-cu12, nvidia-cufft-cu12, nvidia-cuda-runtime-cu12, nvidia-cuda-nvrtc-cu12, nvidia-cuda-cupti-cu12, nvidia-cublas-cu12, jmespath, h11, einops, dnspython, colorama, pymongo, nvidia-cusparse-cu12, nvidia-cudnn-cu12, httpcore, botocore, Wikipedia-API, s3transfer, nvidia-cusolver-cu12, httpx, openai, boto3, llmware\n",
            "  Attempting uninstall: urllib3\n",
            "    Found existing installation: urllib3 2.0.7\n",
            "    Uninstalling urllib3-2.0.7:\n",
            "      Successfully uninstalled urllib3-2.0.7\n",
            "Successfully installed Wikipedia-API-0.6.0 boto3-1.24.53 botocore-1.27.96 colorama-0.4.6 dnspython-2.6.1 einops-0.7.0 h11-0.14.0 httpcore-1.0.5 httpx-0.27.0 jmespath-1.0.1 llmware-0.2.14 nvidia-cublas-cu12-12.1.3.1 nvidia-cuda-cupti-cu12-12.1.105 nvidia-cuda-nvrtc-cu12-12.1.105 nvidia-cuda-runtime-cu12-12.1.105 nvidia-cudnn-cu12-8.9.2.26 nvidia-cufft-cu12-11.0.2.54 nvidia-curand-cu12-10.3.2.106 nvidia-cusolver-cu12-11.4.5.107 nvidia-cusparse-cu12-12.1.0.106 nvidia-nccl-cu12-2.19.3 nvidia-nvjitlink-cu12-12.4.127 nvidia-nvtx-cu12-12.1.105 openai-1.30.1 pgvector-0.2.4 psycopg-3.1.17 psycopg-binary-3.1.17 pymongo-4.7.2 s3transfer-0.6.2 urllib3-1.26.18\n"
          ]
        }
      ],
      "source": [
        "!pip3 install llmware"
      ]
    },
    {
      "cell_type": "code",
      "source": [
        "import os\n",
        "import re\n",
        "from llmware.prompts import Prompt, HumanInTheLoop\n",
        "from llmware.setup import Setup\n",
        "from llmware.configs import LLMWareConfig\n",
        "from llmware.retrieval import Query\n",
        "from llmware.library import Library\n"
      ],
      "metadata": {
        "id": "ReDxYb4NhftL"
      },
      "execution_count": null,
      "outputs": []
    },
    {
      "cell_type": "code",
      "source": [
        "\n",
        "\"\"\"     Fast Start Example #4 - RAG with Text Query\n",
        "\n",
        "    This example shows a basic RAG recipe using text query combined with LLM prompt.\n",
        "\n",
        "    We will show two different ways to achieve this basic recipe:\n",
        "\n",
        "    -- Example 4A - this will integrate Library + Prompt - and is the most scalable general solution\n",
        "\n",
        "    -- Example 4B - this will illustrate another capability of the Prompt class to add sources \"inline\"\n",
        "     without necessarily a library in-place.  It is another useful tool when you want to be able to quickly\n",
        "     pick up a document and start asking questions to it.\n",
        "\n",
        "     Note: both of the examples are designed to achieve the same output.\n",
        "\n",
        "\"\"\"\n",
        "\n",
        "\n",
        "\n",
        "def example_4a_contract_analysis_from_library (model_name, verbose=False):\n",
        "\n",
        "    \"\"\" Example #4a:  Main general case to run a RAG workflow from a Library \"\"\"\n",
        "\n",
        "    # Load the llmware sample files\n",
        "    print (f\"\\n > Loading the llmware sample files...\")\n",
        "\n",
        "    contracts_path = \"/root/document\"\n",
        "\n",
        "    contracts_lib = Library().create_new_library(\"example4_library\")\n",
        "    contracts_lib.add_files(contracts_path)\n",
        "\n",
        "    # questions that we want to ask each contract\n",
        "    question_list = [\n",
        "    {\"topic\": \"Company Overview\", \"llm_query\": \"What is the mission statement of the company?\"},\n",
        "    {\"topic\": \"Financial Highlights\", \"llm_query\": \"What are the key financial highlights for the year?\"},\n",
        "    {\"topic\": \"Revenue\", \"llm_query\": \"What is the total revenue reported for the year?\"},\n",
        "    {\"topic\": \"Net Income\", \"llm_query\": \"What is the net income for the year?\"},\n",
        "    {\"topic\": \"Cash Flow\", \"llm_query\": \"What are the net cash flows from operating activities?\"},\n",
        "    {\"topic\": \"Auditor's Report\", \"llm_query\": \"What is the auditor's opinion on the financial statements?\"},\n",
        "    {\"topic\": \"Risk Factors\", \"llm_query\": \"What are the primary risk factors mentioned?\"},\n",
        "    {\"topic\": \"Market Position\", \"llm_query\": \"How does the company describe its market position?\"},\n",
        "    {\"topic\": \"Board of Directors\", \"llm_query\": \"Who are the members of the board of directors?\"},\n",
        "    {\"topic\": \"Executive Compensation\", \"llm_query\": \"What is the total compensation for the CEO?\"},\n",
        "    {\"topic\": \"Strategic Initiatives\", \"llm_query\": \"What are the key strategic initiatives outlined for the upcoming year?\"},\n",
        "    {\"topic\": \"Dividends\", \"llm_query\": \"What is the company's dividend policy?\"},\n",
        "    {\"topic\": \"Environmental Initiatives\", \"llm_query\": \"What environmental initiatives did the company undertake?\"},\n",
        "    {\"topic\": \"Corporate Social Responsibility\", \"llm_query\": \"What CSR activities are highlighted in the report?\"},\n",
        "    {\"topic\": \"Shareholder Information\", \"llm_query\": \"How did the company's stock perform over the past year?\"},\n",
        "    {\"topic\": \"Business Segments\", \"llm_query\": \"What are the different business segments and their revenues?\"},\n",
        "    {\"topic\": \"Governance\", \"llm_query\": \"What governance practices are described in the report?\"},\n",
        "    {\"topic\": \"Future Outlook\", \"llm_query\": \"What is the management's outlook for the next fiscal year?\"},\n",
        "    {\"topic\": \"Legal Proceedings\", \"llm_query\": \"Are there any significant legal proceedings mentioned?\"},\n",
        "    {\"topic\": \"Research and Development\", \"llm_query\": \"How much did the company spend on research and development?\"}\n",
        "]\n",
        "\n",
        "\n",
        "    print (f\"\\n > Loading model {model_name}...\")\n",
        "\n",
        "    q = Query(contracts_lib)\n",
        "\n",
        "    # get a list of all of the unique documents in the library\n",
        "\n",
        "    # doc id list\n",
        "    doc_list = q.list_doc_id()\n",
        "    print(\"update: document id list - \", doc_list)\n",
        "\n",
        "    # filename list\n",
        "    fn_list = q.list_doc_fn()\n",
        "    print(\"update: filename list - \", fn_list)\n",
        "\n",
        "    prompter = Prompt().load_model(model_name)\n",
        "\n",
        "    for i, doc_id in enumerate(doc_list):\n",
        "\n",
        "        print(\"\\nAnalyzing contract: \", str(i+1), doc_id, fn_list[i])\n",
        "\n",
        "        print(\"LLM Responses:\")\n",
        "\n",
        "        for question in question_list:\n",
        "\n",
        "            query_topic = question[\"topic\"]\n",
        "            llm_question = question[\"llm_query\"]\n",
        "\n",
        "            doc_filter = {\"doc_ID\": [doc_id]}\n",
        "            query_results = q.text_query_with_document_filter(query_topic,doc_filter,result_count=5,exact_mode=True)\n",
        "\n",
        "            if verbose:\n",
        "                # this will display the query results from the query above\n",
        "                for j, qr in enumerate(query_results):\n",
        "                    print(\"update: querying document - \", query_topic, j, doc_filter, qr)\n",
        "\n",
        "            source = prompter.add_source_query_results(query_results)\n",
        "\n",
        "            #   *** this is the call to the llm with the source packaged in the context automatically ***\n",
        "            responses = prompter.prompt_with_source(llm_question, prompt_name=\"default_with_context\", temperature=0.3)\n",
        "\n",
        "            #   unpacking the results from the LLM\n",
        "            for r, response in enumerate(responses):\n",
        "                print(\"update: llm response -  \", llm_question, re.sub(\"[\\n]\",\" \", response[\"llm_response\"]).strip())\n",
        "\n",
        "            # We're done with this contract, clear the source from the prompt\n",
        "            prompter.clear_source_materials()\n",
        "\n",
        "    #   Save jsonl report to jsonl to /prompt_history folder\n",
        "    print(\"\\nPrompt state saved at: \", os.path.join(LLMWareConfig.get_prompt_path(),prompter.prompt_id))\n",
        "    prompter.save_state()\n",
        "\n",
        "    #   Save csv report that includes the model, response, prompt, and evidence for human-in-the-loop review\n",
        "    csv_output = HumanInTheLoop(prompter).export_current_interaction_to_csv()\n",
        "    print(\"\\nCSV output saved at:  \", csv_output)\n",
        "\n",
        "    return 0\n",
        "\n",
        "\n",
        "def example_4b_contract_analysis_direct_from_prompt(model_name, verbose=False):\n",
        "\n",
        "    \"\"\" Example #4b: Alternative implementation using prompt in-line capabilities without using a library \"\"\"\n",
        "\n",
        "    # Load the llmware sample files\n",
        "    print(f\"\\n > Loading the llmware sample files...\")\n",
        "\n",
        "    contracts_path = \"/root/document\"\n",
        "\n",
        "    # questions that we want to ask each contract\n",
        "    question_list = [\n",
        "    {\"topic\": \"Company Overview\", \"llm_query\": \"What is the mission statement of the company?\"},\n",
        "    {\"topic\": \"Financial Highlights\", \"llm_query\": \"What are the key financial highlights for the year?\"},\n",
        "    {\"topic\": \"Revenue\", \"llm_query\": \"What is the total revenue reported for the year?\"},\n",
        "    {\"topic\": \"Net Income\", \"llm_query\": \"What is the net income for the year?\"},\n",
        "    {\"topic\": \"Cash Flow\", \"llm_query\": \"What are the net cash flows from operating activities?\"},\n",
        "    {\"topic\": \"Auditor's Report\", \"llm_query\": \"What is the auditor's opinion on the financial statements?\"},\n",
        "    {\"topic\": \"Risk Factors\", \"llm_query\": \"What are the primary risk factors mentioned?\"},\n",
        "    {\"topic\": \"Market Position\", \"llm_query\": \"How does the company describe its market position?\"},\n",
        "    {\"topic\": \"Board of Directors\", \"llm_query\": \"Who are the members of the board of directors?\"},\n",
        "    {\"topic\": \"Executive Compensation\", \"llm_query\": \"What is the total compensation for the CEO?\"},\n",
        "    {\"topic\": \"Strategic Initiatives\", \"llm_query\": \"What are the key strategic initiatives outlined for the upcoming year?\"},\n",
        "    {\"topic\": \"Dividends\", \"llm_query\": \"What is the company's dividend policy?\"},\n",
        "    {\"topic\": \"Environmental Initiatives\", \"llm_query\": \"What environmental initiatives did the company undertake?\"},\n",
        "    {\"topic\": \"Corporate Social Responsibility\", \"llm_query\": \"What CSR activities are highlighted in the report?\"},\n",
        "    {\"topic\": \"Shareholder Information\", \"llm_query\": \"How did the company's stock perform over the past year?\"},\n",
        "    {\"topic\": \"Business Segments\", \"llm_query\": \"What are the different business segments and their revenues?\"},\n",
        "    {\"topic\": \"Governance\", \"llm_query\": \"What governance practices are described in the report?\"},\n",
        "    {\"topic\": \"Future Outlook\", \"llm_query\": \"What is the management's outlook for the next fiscal year?\"},\n",
        "    {\"topic\": \"Legal Proceedings\", \"llm_query\": \"Are there any significant legal proceedings mentioned?\"},\n",
        "    {\"topic\": \"Research and Development\", \"llm_query\": \"How much did the company spend on research and development?\"}\n",
        "]\n",
        "    print(f\"\\n > Loading model {model_name}...\")\n",
        "\n",
        "    prompter = Prompt().load_model(model_name)\n",
        "\n",
        "    for i, contract in enumerate(os.listdir(contracts_path)):\n",
        "\n",
        "        # exclude potential mac os created file artifact in the samples folder path\n",
        "        if contract != \".DS_Store\":\n",
        "\n",
        "            print(\"\\nAnalyzing contract: \", str(i + 1), contract)\n",
        "\n",
        "            print(\"LLM Responses:\")\n",
        "\n",
        "            for question in question_list:\n",
        "\n",
        "                query_topic = question[\"topic\"]\n",
        "                llm_question = question[\"llm_query\"]\n",
        "\n",
        "                #   introducing \"add_source_document\"\n",
        "                #   this will perform 'inline' parsing, text chunking and query filter on a document\n",
        "                #   input is a file folder path, file name, and an optional query filter\n",
        "                #   the source is automatically packaged into the prompt object\n",
        "\n",
        "                source = prompter.add_source_document(contracts_path,contract,query=query_topic)\n",
        "\n",
        "                if verbose:\n",
        "                    print(\"update: document created source - \", source)\n",
        "\n",
        "                #   calling the LLM with 'source' information from the contract automatically packaged into the prompt\n",
        "                responses = prompter.prompt_with_source(llm_question, prompt_name=\"default_with_context\",\n",
        "                                                        temperature=0.3)\n",
        "\n",
        "                #   unpacking the LLM responses\n",
        "                for r, response in enumerate(responses):\n",
        "                    print(\"update: llm response: \", llm_question, re.sub(\"[\\n]\", \" \",\n",
        "                                                                         response[\"llm_response\"]).strip())\n",
        "\n",
        "                # We're done with this contract, clear the source from the prompt\n",
        "                prompter.clear_source_materials()\n",
        "\n",
        "    # Save jsonl report to jsonl to /prompt_history folder\n",
        "    print(\"\\nupdate: Prompt state saved at: \", os.path.join(LLMWareConfig.get_prompt_path(), prompter.prompt_id))\n",
        "    prompter.save_state()\n",
        "\n",
        "    # Save csv report that includes the model, response, prompt, and evidence for human-in-the-loop review\n",
        "    csv_output = HumanInTheLoop(prompter).export_current_interaction_to_csv()\n",
        "    print(\"\\nupdate: CSV output saved at - \", csv_output)\n",
        "\n",
        "    return 0\n",
        "\n",
        "\n",
        "if __name__ == \"__main__\":\n",
        "\n",
        "    #   you can pick any model from the ModelCatalog\n",
        "    #   we list a few representative good choices below\n",
        "\n",
        "    LLMWareConfig().set_active_db(\"sqlite\")\n",
        "\n",
        "    example_models = [\"llmware/bling-1b-0.1\", \"llmware/bling-tiny-llama-v0\", \"llmware/dragon-yi-6b-gguf\"]\n",
        "\n",
        "    #   to swap in a gpt-4 openai model - uncomment these two lines\n",
        "    #   model_name = \"gpt-4\"\n",
        "    #   os.environ[\"USER_MANAGED_OPENAI_API_KEY\"] = \"<insert-your-openai-key>\"\n",
        "\n",
        "    # use local cpu model\n",
        "    model_name = example_models[0]\n",
        "\n",
        "    #   two good recipes to address the use case\n",
        "\n",
        "    #   first let's look at the main way of retrieving and analyzing from a library\n",
        "    #example_4a_contract_analysis_from_library(model_name)\n",
        "\n",
        "    #   second - uncomment this line, and lets run the \"in-line\" prompt way\n",
        "    example_4b_contract_analysis_direct_from_prompt(model_name)"
      ],
      "metadata": {
        "colab": {
          "base_uri": "https://localhost:8080/"
        },
        "id": "8OdAfvERgsUf",
        "outputId": "33ead5aa-e82d-4145-ec8a-f52e5ad03725"
      },
      "execution_count": null,
      "outputs": [
        {
          "output_type": "stream",
          "name": "stdout",
          "text": [
            "\n",
            " > Loading the llmware sample files...\n",
            "\n",
            " > Loading model llmware/bling-1b-0.1...\n"
          ]
        },
        {
          "output_type": "stream",
          "name": "stderr",
          "text": [
            "WARNING:root:warning: Parser - could not find parsing output - /root/llmware_data/tmp/parser_tmp/ - pdf_internal_test0.txt \n",
            "WARNING:root:No content parsed from document - meta-facebook-ar-2023.pdf \n"
          ]
        },
        {
          "output_type": "stream",
          "name": "stdout",
          "text": [
            "\n",
            "Analyzing contract:  1 meta-facebook-ar-2023.pdf\n",
            "LLM Responses:\n",
            "[Errno 2] No such file or directory: '/root/llmware_data/tmp/parser_tmp/pdf_internal_test0.txt'\n"
          ]
        },
        {
          "output_type": "stream",
          "name": "stderr",
          "text": [
            "WARNING:root:No source added in .add_source_document.\n",
            "WARNING:root:No source materials attached to the Prompt. Running prompt_with_source inference without source may lead to unexpected results.\n",
            "WARNING:root:warning: Parser - could not find parsing output - /root/llmware_data/tmp/parser_tmp/ - pdf_internal_test0.txt \n",
            "WARNING:root:No content parsed from document - meta-facebook-ar-2023.pdf \n",
            "WARNING:root:No source added in .add_source_document.\n",
            "WARNING:root:No source materials attached to the Prompt. Running prompt_with_source inference without source may lead to unexpected results.\n"
          ]
        },
        {
          "output_type": "stream",
          "name": "stdout",
          "text": [
            "update: llm response:  What is the mission statement of the company? Not Found.\n",
            "[Errno 2] No such file or directory: '/root/llmware_data/tmp/parser_tmp/pdf_internal_test0.txt'\n"
          ]
        },
        {
          "output_type": "stream",
          "name": "stderr",
          "text": [
            "WARNING:root:warning: Parser - could not find parsing output - /root/llmware_data/tmp/parser_tmp/ - pdf_internal_test0.txt \n",
            "WARNING:root:No content parsed from document - meta-facebook-ar-2023.pdf \n",
            "WARNING:root:No source added in .add_source_document.\n",
            "WARNING:root:No source materials attached to the Prompt. Running prompt_with_source inference without source may lead to unexpected results.\n"
          ]
        },
        {
          "output_type": "stream",
          "name": "stdout",
          "text": [
            "update: llm response:  What are the key financial highlights for the year? •The company has a market capitalization of $1.2 billion.\r •The company has a market value of $1.2 billion.\r •The company has a market capitalization of $1.2 billion.\n",
            "[Errno 2] No such file or directory: '/root/llmware_data/tmp/parser_tmp/pdf_internal_test0.txt'\n"
          ]
        },
        {
          "output_type": "stream",
          "name": "stderr",
          "text": [
            "WARNING:root:warning: Parser - could not find parsing output - /root/llmware_data/tmp/parser_tmp/ - pdf_internal_test0.txt \n",
            "WARNING:root:No content parsed from document - meta-facebook-ar-2023.pdf \n",
            "WARNING:root:No source added in .add_source_document.\n",
            "WARNING:root:No source materials attached to the Prompt. Running prompt_with_source inference without source may lead to unexpected results.\n"
          ]
        },
        {
          "output_type": "stream",
          "name": "stdout",
          "text": [
            "update: llm response:  What is the total revenue reported for the year? Not Found.\n",
            "[Errno 2] No such file or directory: '/root/llmware_data/tmp/parser_tmp/pdf_internal_test0.txt'\n"
          ]
        },
        {
          "output_type": "stream",
          "name": "stderr",
          "text": [
            "WARNING:root:warning: Parser - could not find parsing output - /root/llmware_data/tmp/parser_tmp/ - pdf_internal_test0.txt \n",
            "WARNING:root:No content parsed from document - meta-facebook-ar-2023.pdf \n",
            "WARNING:root:No source added in .add_source_document.\n",
            "WARNING:root:No source materials attached to the Prompt. Running prompt_with_source inference without source may lead to unexpected results.\n"
          ]
        },
        {
          "output_type": "stream",
          "name": "stdout",
          "text": [
            "update: llm response:  What is the net income for the year? Not Found.\n",
            "[Errno 2] No such file or directory: '/root/llmware_data/tmp/parser_tmp/pdf_internal_test0.txt'\n"
          ]
        },
        {
          "output_type": "stream",
          "name": "stderr",
          "text": [
            "WARNING:root:warning: Parser - could not find parsing output - /root/llmware_data/tmp/parser_tmp/ - pdf_internal_test0.txt \n",
            "WARNING:root:No content parsed from document - meta-facebook-ar-2023.pdf \n",
            "WARNING:root:No source added in .add_source_document.\n",
            "WARNING:root:No source materials attached to the Prompt. Running prompt_with_source inference without source may lead to unexpected results.\n"
          ]
        },
        {
          "output_type": "stream",
          "name": "stdout",
          "text": [
            "update: llm response:  What are the net cash flows from operating activities? Net cash flows from operating activities are net of cash used in investing activities and cash used in financing activities.\n",
            "[Errno 2] No such file or directory: '/root/llmware_data/tmp/parser_tmp/pdf_internal_test0.txt'\n"
          ]
        },
        {
          "output_type": "stream",
          "name": "stderr",
          "text": [
            "WARNING:root:warning: Parser - could not find parsing output - /root/llmware_data/tmp/parser_tmp/ - pdf_internal_test0.txt \n",
            "WARNING:root:No content parsed from document - meta-facebook-ar-2023.pdf \n",
            "WARNING:root:No source added in .add_source_document.\n",
            "WARNING:root:No source materials attached to the Prompt. Running prompt_with_source inference without source may lead to unexpected results.\n"
          ]
        },
        {
          "output_type": "stream",
          "name": "stdout",
          "text": [
            "update: llm response:  What is the auditor's opinion on the financial statements? Not Found.\n",
            "[Errno 2] No such file or directory: '/root/llmware_data/tmp/parser_tmp/pdf_internal_test0.txt'\n"
          ]
        },
        {
          "output_type": "stream",
          "name": "stderr",
          "text": [
            "WARNING:root:warning: Parser - could not find parsing output - /root/llmware_data/tmp/parser_tmp/ - pdf_internal_test0.txt \n",
            "WARNING:root:No content parsed from document - meta-facebook-ar-2023.pdf \n",
            "WARNING:root:No source added in .add_source_document.\n",
            "WARNING:root:No source materials attached to the Prompt. Running prompt_with_source inference without source may lead to unexpected results.\n"
          ]
        },
        {
          "output_type": "stream",
          "name": "stdout",
          "text": [
            "update: llm response:  What are the primary risk factors mentioned? 1.  The company is in the midst of a restructuring.\r 2.  The company is in the midst of a restructuring.\r 3.  The company is in the midst of a restructuring.\r 4.  The company is in the midst of a restructuring.\r 5.  The company is in the midst of a restructuring.\r 6.  The company is in the midst of a restructuring.\r 7.  The company is in the midst of a restructuring.\r 8.  The company is in the midst of a restructuring.\r 9.  The company is in the midst of a restructuring.\r 10.  The company is in the midst of a restructuring.\r 11.  The company is in the midst of a restructuring.\r 12.  The company is in the midst of a restructuring.\r 13.  The company is in the midst of a restructuring.\r 14.  The company\n",
            "[Errno 2] No such file or directory: '/root/llmware_data/tmp/parser_tmp/pdf_internal_test0.txt'\n"
          ]
        },
        {
          "output_type": "stream",
          "name": "stderr",
          "text": [
            "WARNING:root:warning: Parser - could not find parsing output - /root/llmware_data/tmp/parser_tmp/ - pdf_internal_test0.txt \n",
            "WARNING:root:No content parsed from document - meta-facebook-ar-2023.pdf \n",
            "WARNING:root:No source added in .add_source_document.\n",
            "WARNING:root:No source materials attached to the Prompt. Running prompt_with_source inference without source may lead to unexpected results.\n"
          ]
        },
        {
          "output_type": "stream",
          "name": "stdout",
          "text": [
            "update: llm response:  How does the company describe its market position? Not Found.\n",
            "[Errno 2] No such file or directory: '/root/llmware_data/tmp/parser_tmp/pdf_internal_test0.txt'\n"
          ]
        },
        {
          "output_type": "stream",
          "name": "stderr",
          "text": [
            "WARNING:root:warning: Parser - could not find parsing output - /root/llmware_data/tmp/parser_tmp/ - pdf_internal_test0.txt \n",
            "WARNING:root:No content parsed from document - meta-facebook-ar-2023.pdf \n",
            "WARNING:root:No source added in .add_source_document.\n",
            "WARNING:root:No source materials attached to the Prompt. Running prompt_with_source inference without source may lead to unexpected results.\n"
          ]
        },
        {
          "output_type": "stream",
          "name": "stdout",
          "text": [
            "update: llm response:  Who are the members of the board of directors? Not Found.\n",
            "[Errno 2] No such file or directory: '/root/llmware_data/tmp/parser_tmp/pdf_internal_test0.txt'\n"
          ]
        },
        {
          "output_type": "stream",
          "name": "stderr",
          "text": [
            "WARNING:root:warning: Parser - could not find parsing output - /root/llmware_data/tmp/parser_tmp/ - pdf_internal_test0.txt \n",
            "WARNING:root:No content parsed from document - meta-facebook-ar-2023.pdf \n",
            "WARNING:root:No source added in .add_source_document.\n",
            "WARNING:root:No source materials attached to the Prompt. Running prompt_with_source inference without source may lead to unexpected results.\n"
          ]
        },
        {
          "output_type": "stream",
          "name": "stdout",
          "text": [
            "update: llm response:  What is the total compensation for the CEO? Not Found.\n",
            "[Errno 2] No such file or directory: '/root/llmware_data/tmp/parser_tmp/pdf_internal_test0.txt'\n"
          ]
        },
        {
          "output_type": "stream",
          "name": "stderr",
          "text": [
            "WARNING:root:warning: Parser - could not find parsing output - /root/llmware_data/tmp/parser_tmp/ - pdf_internal_test0.txt \n",
            "WARNING:root:No content parsed from document - meta-facebook-ar-2023.pdf \n",
            "WARNING:root:No source added in .add_source_document.\n",
            "WARNING:root:No source materials attached to the Prompt. Running prompt_with_source inference without source may lead to unexpected results.\n"
          ]
        },
        {
          "output_type": "stream",
          "name": "stdout",
          "text": [
            "update: llm response:  What are the key strategic initiatives outlined for the upcoming year? 1.  The Company will continue to focus on the development of its core business, and will continue to expand its customer base and market share.\r 2.  The Company will continue to focus on the development of its core business, and will continue to expand its customer base and market share.\r 3.  The Company will continue to focus on the development of its core business, and will continue to expand its customer base and market share.\r 4.  The Company will continue to focus on the development of its core business, and will continue to expand its customer base and market share.\r 5.  The Company will continue to focus on the development of its core business, and will continue to expand its customer base and market share.\n",
            "[Errno 2] No such file or directory: '/root/llmware_data/tmp/parser_tmp/pdf_internal_test0.txt'\n"
          ]
        },
        {
          "output_type": "stream",
          "name": "stderr",
          "text": [
            "WARNING:root:warning: Parser - could not find parsing output - /root/llmware_data/tmp/parser_tmp/ - pdf_internal_test0.txt \n",
            "WARNING:root:No content parsed from document - meta-facebook-ar-2023.pdf \n",
            "WARNING:root:No source added in .add_source_document.\n",
            "WARNING:root:No source materials attached to the Prompt. Running prompt_with_source inference without source may lead to unexpected results.\n"
          ]
        },
        {
          "output_type": "stream",
          "name": "stdout",
          "text": [
            "update: llm response:  What is the company's dividend policy? Not Found.\n",
            "[Errno 2] No such file or directory: '/root/llmware_data/tmp/parser_tmp/pdf_internal_test0.txt'\n"
          ]
        },
        {
          "output_type": "stream",
          "name": "stderr",
          "text": [
            "WARNING:root:warning: Parser - could not find parsing output - /root/llmware_data/tmp/parser_tmp/ - pdf_internal_test0.txt \n",
            "WARNING:root:No content parsed from document - meta-facebook-ar-2023.pdf \n",
            "WARNING:root:No source added in .add_source_document.\n",
            "WARNING:root:No source materials attached to the Prompt. Running prompt_with_source inference without source may lead to unexpected results.\n"
          ]
        },
        {
          "output_type": "stream",
          "name": "stdout",
          "text": [
            "update: llm response:  What environmental initiatives did the company undertake? Environmental initiatives, including the implementation of a new environmental policy, the implementation of a new environmental management system, and the implementation of a new environmental policy, were all undertaken.\n",
            "[Errno 2] No such file or directory: '/root/llmware_data/tmp/parser_tmp/pdf_internal_test0.txt'\n"
          ]
        },
        {
          "output_type": "stream",
          "name": "stderr",
          "text": [
            "WARNING:root:warning: Parser - could not find parsing output - /root/llmware_data/tmp/parser_tmp/ - pdf_internal_test0.txt \n",
            "WARNING:root:No content parsed from document - meta-facebook-ar-2023.pdf \n",
            "WARNING:root:No source added in .add_source_document.\n",
            "WARNING:root:No source materials attached to the Prompt. Running prompt_with_source inference without source may lead to unexpected results.\n"
          ]
        },
        {
          "output_type": "stream",
          "name": "stdout",
          "text": [
            "update: llm response:  What CSR activities are highlighted in the report? 1.  CSR activities are highlighted in the report.\n",
            "[Errno 2] No such file or directory: '/root/llmware_data/tmp/parser_tmp/pdf_internal_test0.txt'\n"
          ]
        },
        {
          "output_type": "stream",
          "name": "stderr",
          "text": [
            "WARNING:root:warning: Parser - could not find parsing output - /root/llmware_data/tmp/parser_tmp/ - pdf_internal_test0.txt \n",
            "WARNING:root:No content parsed from document - meta-facebook-ar-2023.pdf \n",
            "WARNING:root:No source added in .add_source_document.\n",
            "WARNING:root:No source materials attached to the Prompt. Running prompt_with_source inference without source may lead to unexpected results.\n"
          ]
        },
        {
          "output_type": "stream",
          "name": "stdout",
          "text": [
            "update: llm response:  How did the company's stock perform over the past year? The stock price has increased by $1.00 per share.\n",
            "[Errno 2] No such file or directory: '/root/llmware_data/tmp/parser_tmp/pdf_internal_test0.txt'\n"
          ]
        },
        {
          "output_type": "stream",
          "name": "stderr",
          "text": [
            "WARNING:root:warning: Parser - could not find parsing output - /root/llmware_data/tmp/parser_tmp/ - pdf_internal_test0.txt \n",
            "WARNING:root:No content parsed from document - meta-facebook-ar-2023.pdf \n",
            "WARNING:root:No source added in .add_source_document.\n",
            "WARNING:root:No source materials attached to the Prompt. Running prompt_with_source inference without source may lead to unexpected results.\n"
          ]
        },
        {
          "output_type": "stream",
          "name": "stdout",
          "text": [
            "update: llm response:  What are the different business segments and their revenues? 1.  Finance and Administration.\r 2.  Customer Service.\r 3.  Sales and Marketing.\r 4.  Sales and Distribution.\r 5.  Sales and Distribution.\r 6.  Sales and Distribution.\r 7.  Sales and Distribution.\r 8.  Sales and Distribution.\r 9.  Sales and Distribution.\r 10.  Sales and Distribution.\r 11.  Sales and Distribution.\r 12.  Sales and Distribution.\r 13.  Sales and Distribution.\r 14.  Sales and Distribution.\r 15.  Sales and Distribution.\r 16.  Sales and Distribution.\r 17.  Sales and Distribution.\r 18.  Sales and Distribution.\r 19.  Sales and Distribution.\r 20.  Sales and Distribution.\r 21.  Sales and Distribution.\r 22.  Sales and Distribution.\r 23.\n",
            "[Errno 2] No such file or directory: '/root/llmware_data/tmp/parser_tmp/pdf_internal_test0.txt'\n"
          ]
        },
        {
          "output_type": "stream",
          "name": "stderr",
          "text": [
            "WARNING:root:warning: Parser - could not find parsing output - /root/llmware_data/tmp/parser_tmp/ - pdf_internal_test0.txt \n",
            "WARNING:root:No content parsed from document - meta-facebook-ar-2023.pdf \n",
            "WARNING:root:No source added in .add_source_document.\n",
            "WARNING:root:No source materials attached to the Prompt. Running prompt_with_source inference without source may lead to unexpected results.\n"
          ]
        },
        {
          "output_type": "stream",
          "name": "stdout",
          "text": [
            "update: llm response:  What governance practices are described in the report? 1.  The governance practices are described in the report.\n",
            "[Errno 2] No such file or directory: '/root/llmware_data/tmp/parser_tmp/pdf_internal_test0.txt'\n"
          ]
        },
        {
          "output_type": "stream",
          "name": "stderr",
          "text": [
            "WARNING:root:warning: Parser - could not find parsing output - /root/llmware_data/tmp/parser_tmp/ - pdf_internal_test0.txt \n",
            "WARNING:root:No content parsed from document - meta-facebook-ar-2023.pdf \n",
            "WARNING:root:No source added in .add_source_document.\n",
            "WARNING:root:No source materials attached to the Prompt. Running prompt_with_source inference without source may lead to unexpected results.\n"
          ]
        },
        {
          "output_type": "stream",
          "name": "stdout",
          "text": [
            "update: llm response:  What is the management's outlook for the next fiscal year? Not Found.\n",
            "[Errno 2] No such file or directory: '/root/llmware_data/tmp/parser_tmp/pdf_internal_test0.txt'\n"
          ]
        },
        {
          "output_type": "stream",
          "name": "stderr",
          "text": [
            "WARNING:root:warning: Parser - could not find parsing output - /root/llmware_data/tmp/parser_tmp/ - pdf_internal_test0.txt \n",
            "WARNING:root:No content parsed from document - meta-facebook-ar-2023.pdf \n",
            "WARNING:root:No source added in .add_source_document.\n",
            "WARNING:root:No source materials attached to the Prompt. Running prompt_with_source inference without source may lead to unexpected results.\n"
          ]
        },
        {
          "output_type": "stream",
          "name": "stdout",
          "text": [
            "update: llm response:  Are there any significant legal proceedings mentioned? Yes, there are two significant legal proceedings.\n",
            "[Errno 2] No such file or directory: '/root/llmware_data/tmp/parser_tmp/pdf_internal_test0.txt'\n",
            "update: llm response:  How much did the company spend on research and development? Not Found.\n",
            "\n",
            "update: Prompt state saved at:  /root/llmware_data/prompt_history/2bb1709d-42f5-4d64-9af7-af67adf62114\n",
            "\n",
            "update: CSV output saved at -  {'report_name': 'interaction_report_Mon May 20 16:06:51 2024.csv', 'report_fp': '/root/llmware_data/prompt_history/interaction_report_Mon May 20 16:06:51 2024.csv', 'results': 0}\n"
          ]
        }
      ]
    },
    {
      "cell_type": "code",
      "source": [
        "Setup().load_sample_files()"
      ],
      "metadata": {
        "colab": {
          "base_uri": "https://localhost:8080/",
          "height": 36
        },
        "id": "xexhNAl5h0eJ",
        "outputId": "6b7b46b3-e882-47f2-e470-26d56f287baa"
      },
      "execution_count": null,
      "outputs": [
        {
          "output_type": "execute_result",
          "data": {
            "text/plain": [
              "'/root/llmware_data/sample_files'"
            ],
            "application/vnd.google.colaboratory.intrinsic+json": {
              "type": "string"
            }
          },
          "metadata": {},
          "execution_count": 3
        }
      ]
    },
    {
      "cell_type": "code",
      "source": [
        "!mkdir new_folder"
      ],
      "metadata": {
        "id": "rmMeSZX2iY5c"
      },
      "execution_count": null,
      "outputs": []
    }
  ]
}